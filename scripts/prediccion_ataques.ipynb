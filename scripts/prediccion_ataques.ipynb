{
 "cells": [
  {
   "cell_type": "code",
   "execution_count": 12,
   "id": "58ac710a",
   "metadata": {},
   "outputs": [],
   "source": [
    "# 1. Importación de librerías\n",
    "\n",
    "import numpy as np\n",
    "import pandas as pd\n",
    "import matplotlib.pyplot as plt\n",
    "import seaborn as sns\n",
    "import joblib\n",
    "from collections import defaultdict\n",
    "from sklearn.preprocessing import LabelEncoder\n"
   ]
  },
  {
   "cell_type": "code",
   "execution_count": 13,
   "id": "bbbb0ee0",
   "metadata": {},
   "outputs": [],
   "source": [
    "# 2. Cargar logs ordenados por tiempo\n",
    "df = pd.read_csv(\"C:/Users/alons/Desktop/Tesis_SIEM_ML/data/processed/logs_unificados_limpios.csv\")\n",
    "df = df.sort_values(by='@timestamp')"
   ]
  },
  {
   "cell_type": "code",
   "execution_count": 14,
   "id": "e8ffa89e",
   "metadata": {},
   "outputs": [],
   "source": [
    "# 3. Crear pares de eventos consecutivos: (evento_actual, evento_siguiente)\n",
    "secuencias = []\n",
    "prev_event = None\n",
    "\n",
    "for event in df['danger.type']:\n",
    "    if prev_event is not None:\n",
    "        secuencias.append((prev_event, event))\n",
    "    prev_event = event"
   ]
  },
  {
   "cell_type": "code",
   "execution_count": 15,
   "id": "caa1114c",
   "metadata": {},
   "outputs": [
    {
     "data": {
      "text/plain": [
       "['C:/Users/alons/Desktop/Tesis_SIEM_ML/models/label_encoder_danger_type.pkl']"
      ]
     },
     "execution_count": 15,
     "metadata": {},
     "output_type": "execute_result"
    }
   ],
   "source": [
    "# 4. Codificar los eventos y guardar el encoder\n",
    "le = LabelEncoder()\n",
    "le.fit(df['danger.type'])\n",
    "df['danger_encoded'] = le.transform(df['danger.type'])\n",
    "\n",
    "# Guardar el encoder\n",
    "joblib.dump(le, \"C:/Users/alons/Desktop/Tesis_SIEM_ML/models/label_encoder_danger_type.pkl\")"
   ]
  },
  {
   "cell_type": "code",
   "execution_count": 16,
   "id": "eb0a1e3a",
   "metadata": {},
   "outputs": [],
   "source": [
    "# 5. Codificar las secuencias\n",
    "secuencias_codificadas = [(le.transform([a])[0], le.transform([b])[0]) for a, b in secuencias]"
   ]
  },
  {
   "cell_type": "code",
   "execution_count": 17,
   "id": "9c025bc5",
   "metadata": {},
   "outputs": [],
   "source": [
    "# 6. Construir una matriz de transición de eventos\n",
    "transiciones = defaultdict(lambda: defaultdict(int))\n",
    "\n",
    "for a, b in secuencias_codificadas:\n",
    "    transiciones[a][b] += 1"
   ]
  },
  {
   "cell_type": "code",
   "execution_count": 18,
   "id": "2e56c064",
   "metadata": {},
   "outputs": [],
   "source": [
    "# 7. Calcular probabilidades de transición\n",
    "trans_df = pd.DataFrame(transiciones).T.fillna(0).astype(int)\n",
    "trans_df_prob = trans_df.div(trans_df.sum(axis=1), axis=0)"
   ]
  },
  {
   "cell_type": "code",
   "execution_count": 19,
   "id": "59325e52",
   "metadata": {},
   "outputs": [
    {
     "name": "stdout",
     "output_type": "stream",
     "text": [
      "Matriz de transiciones guardada.\n"
     ]
    }
   ],
   "source": [
    "# 8. Guardar modelo de transiciones\n",
    "trans_df_prob.to_csv(\"C:/Users/alons/Desktop/Tesis_SIEM_ML/models/matriz_transiciones.csv\")\n",
    "print(\"Matriz de transiciones guardada.\")"
   ]
  },
  {
   "cell_type": "code",
   "execution_count": 40,
   "id": "75cefd8b",
   "metadata": {},
   "outputs": [],
   "source": [
    "# Cargar el DataFrame original para obtener los nombres correctos\n",
    "df_original = pd.read_csv(\"C:/Users/alons/Desktop/Tesis_SIEM_ML/data/processed/logs_unificados_limpios.csv\")\n",
    "\n",
    "# Crear mapeo de códigos a nombres\n",
    "le = joblib.load(\"C:/Users/alons/Desktop/Tesis_SIEM_ML/models/label_encoder_danger_type.pkl\")\n",
    "codigo_a_nombre = dict(zip(le.transform(df_original['danger.type']), df_original['danger.type']))\n"
   ]
  },
  {
   "cell_type": "code",
   "execution_count": 41,
   "id": "1280d43a",
   "metadata": {},
   "outputs": [
    {
     "name": "stdout",
     "output_type": "stream",
     "text": [
      "Predicción de acciones siguientes al evento '39':\n",
      "{39: 0.6934, 0: 0.2602, 45: 0.027}\n"
     ]
    }
   ],
   "source": [
    "# 9. Función para predecir la siguiente acción más probable dado un evento\n",
    "def predecir_siguiente_nombre(evento_codificado, top_n=3):\n",
    "    if evento_codificado in trans_df_prob.index:\n",
    "        predicciones = trans_df_prob.loc[evento_codificado].sort_values(ascending=False).head(top_n)\n",
    "\n",
    "        resultado = {}\n",
    "        for idx, prob in predicciones.items():\n",
    "            clave = int(idx)  # conversión explícita\n",
    "            nombre = codigo_a_nombre.get(clave, f'Clase {clave}')\n",
    "            resultado[nombre] = round(float(prob), 4)\n",
    "\n",
    "        return resultado\n",
    "    else:\n",
    "        return \"Evento no observado anteriormente\"\n",
    "    \n",
    "# 10. Ejemplo: predecir qué viene después del evento tipo '39'\n",
    "print(\"Predicción de acciones siguientes al evento '39':\")\n",
    "print(predecir_siguiente_nombre(39))"
   ]
  }
 ],
 "metadata": {
  "kernelspec": {
   "display_name": "Python 3",
   "language": "python",
   "name": "python3"
  },
  "language_info": {
   "codemirror_mode": {
    "name": "ipython",
    "version": 3
   },
   "file_extension": ".py",
   "mimetype": "text/x-python",
   "name": "python",
   "nbconvert_exporter": "python",
   "pygments_lexer": "ipython3",
   "version": "3.12.10"
  }
 },
 "nbformat": 4,
 "nbformat_minor": 5
}
