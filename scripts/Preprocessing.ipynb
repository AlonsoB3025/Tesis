{
 "cells": [
  {
   "cell_type": "markdown",
   "id": "e07f71d1",
   "metadata": {},
   "source": [
    "PREPROCESAMIENTO"
   ]
  },
  {
   "cell_type": "code",
   "execution_count": 40,
   "id": "c07f684e",
   "metadata": {},
   "outputs": [],
   "source": [
    "# 1. LIBRERÍAS\n",
    "import pandas as pd\n",
    "import os\n",
    "from sklearn.preprocessing import LabelEncoder"
   ]
  },
  {
   "cell_type": "code",
   "execution_count": null,
   "id": "d4247a11",
   "metadata": {},
   "outputs": [
    {
     "name": "stdout",
     "output_type": "stream",
     "text": [
      "Cargando C:\\Users\\alons\\Desktop\\Tesis_SIEM_ML\\data\\raw\\Logs-antivirus_etiquetado.csv...\n",
      "Cargando C:\\Users\\alons\\Desktop\\Tesis_SIEM_ML\\data\\raw\\ML_event_windows_estaciones.csv...\n",
      "Cargando C:\\Users\\alons\\Desktop\\Tesis_SIEM_ML\\data\\raw\\ML_event_windows_server_correo_interno.csv...\n",
      "Cargando C:\\Users\\alons\\Desktop\\Tesis_SIEM_ML\\data\\raw\\ML_WAF.csv...\n",
      "Cargando C:\\Users\\alons\\Desktop\\Tesis_SIEM_ML\\data\\raw\\ML_antimalware.csv...\n",
      "Cargando C:\\Users\\alons\\Desktop\\Tesis_SIEM_ML\\data\\raw\\ML_antivirus_kaspersky.csv...\n"
     ]
    }
   ],
   "source": [
    "# 2. Definir rutas\n",
    "raw_paths = {\n",
    "    \"antivirus_etiquetado\":r\"C:\\Users\\alons\\Desktop\\Tesis_SIEM_ML\\data\\raw\\Logs-antivirus_etiquetado.csv\",\n",
    "    \"windows_estaciones\": r\"C:\\Users\\alons\\Desktop\\Tesis_SIEM_ML\\data\\raw\\ML_event_windows_estaciones.csv\",\n",
    "    \"windows_server\": r\"C:\\Users\\alons\\Desktop\\Tesis_SIEM_ML\\data\\raw\\ML_event_windows_server_correo_interno.csv\",\n",
    "    \"waf\": r\"C:\\Users\\alons\\Desktop\\Tesis_SIEM_ML\\data\\raw\\ML_WAF.csv\",\n",
    "    \"antimalware\": r\"C:\\Users\\alons\\Desktop\\Tesis_SIEM_ML\\data\\raw\\ML_antimalware.csv\",\n",
    "    \"antivirus_kaspersky\": r\"C:\\Users\\alons\\Desktop\\Tesis_SIEM_ML\\data\\raw\\ML_antivirus_kaspersky.csv\"\n",
    "}\n",
    "\n",
    "df_list = []\n",
    "for name, path in raw_paths.items():\n",
    "    if not os.path.exists(path):\n",
    "        print(f\"Archivo no encontrado: {path}\")\n",
    "    else:\n",
    "        print(f\"Cargando {path}...\")\n",
    "        df = pd.read_csv(path)\n",
    "        df['source'] = name\n",
    "        df_list.append(df)\n",
    "\n",
    "# Unir todos los logs con su identificador de fuente\n",
    "if not df_list:\n",
    "    raise ValueError(\"No se cargó ningún archivo. Revisa las rutas.\")\n",
    "df_total = pd.concat(df_list, ignore_index=True)"
   ]
  },
  {
   "cell_type": "code",
   "execution_count": 42,
   "id": "62820654",
   "metadata": {},
   "outputs": [
    {
     "name": "stdout",
     "output_type": "stream",
     "text": [
      "0   2024-09-29 12:06:47\n",
      "1   2024-09-27 12:06:15\n",
      "2   2024-09-27 07:56:15\n",
      "3   2024-09-27 07:56:15\n",
      "4   2024-09-26 16:52:33\n",
      "5   2024-09-26 13:00:48\n",
      "6   2024-09-25 16:03:45\n",
      "7   2024-09-25 15:59:35\n",
      "8   2024-09-25 14:36:30\n",
      "9   2024-09-25 14:36:30\n",
      "Name: @timestamp, dtype: datetime64[ns]\n"
     ]
    }
   ],
   "source": [
    "# 3. Convertir timestamp\n",
    "df_total['@timestamp'] = pd.to_datetime(df_total['@timestamp'], format=\"%b %d, %Y @ %H:%M:%S.%f\", errors='coerce')\n",
    "df_total = df_total.dropna(subset=['@timestamp'])  # eliminamos las fechas inválidas\n",
    "\n",
    "df_total['hour'] = df_total['@timestamp'].dt.hour\n",
    "df_total['dayofweek'] = df_total['@timestamp'].dt.dayofweek\n",
    "df_total['month'] = df_total['@timestamp'].dt.month\n",
    "df_total['year'] = df_total['@timestamp'].dt.year\n",
    "\n",
    "# 4. Seleccionar columnas clave (puedes ajustar según el análisis)\n",
    "cols_to_keep = ['@timestamp', 'host.ip', 'rule.name', 'rule.category', 'rule.description',\n",
    "                'file.path', 'file.hash.md5', 'file.hash.sha256', 'virus.name',\n",
    "                'danger.type', 'source', 'hour', 'dayofweek', 'month', 'year']\n",
    "\n",
    "# No reemplazar fechas por \"desconocido\"\n",
    "cols_excluding_timestamp = [c for c in cols_to_keep if c != '@timestamp']\n",
    "df_clean = df_total[cols_to_keep].copy()\n",
    "df_clean[cols_excluding_timestamp] = df_clean[cols_excluding_timestamp].fillna(\"desconocido\")\n",
    "print(df_total['@timestamp'].dropna().head(10))\n"
   ]
  },
  {
   "cell_type": "code",
   "execution_count": 43,
   "id": "c3e02e38",
   "metadata": {},
   "outputs": [],
   "source": [
    "# 5. Codificación categórica\n",
    "cat_cols = ['host.ip', 'rule.name', 'rule.category', 'rule.description',\n",
    "            'file.path', 'file.hash.md5', 'file.hash.sha256',\n",
    "            'virus.name', 'danger.type', 'source']\n",
    "\n",
    "encoders = {}\n",
    "for col in cat_cols:\n",
    "    enc = LabelEncoder()\n",
    "    df_clean[col] = enc.fit_transform(df_clean[col])\n",
    "    encoders[col] = enc"
   ]
  },
  {
   "cell_type": "code",
   "execution_count": 44,
   "id": "e6a83279",
   "metadata": {},
   "outputs": [
    {
     "name": "stdout",
     "output_type": "stream",
     "text": [
      "                   @timestamp       host.ip    host.hostname  \\\n",
      "0  Sep 7, 2024 @ 10:33:15.000    10.3.28.71  10443-077700362   \n",
      "1  Sep 7, 2024 @ 10:32:11.000  10.4.248.188  10251-002900097   \n",
      "2  Sep 7, 2024 @ 10:27:00.000  10.4.236.127  60041-071685072   \n",
      "3  Sep 7, 2024 @ 10:25:13.000    10.5.28.37  93245-007700224   \n",
      "4  Sep 7, 2024 @ 10:25:13.000    10.5.28.37  93245-007700224   \n",
      "\n",
      "                         rule.name            rule.category  \\\n",
      "0  GNRL_EV_DEVCTRL_DEV_PLUG_DENIED  Control de dispositivos   \n",
      "1  GNRL_EV_DEVCTRL_DEV_PLUG_DENIED  Control de dispositivos   \n",
      "2  GNRL_EV_DEVCTRL_DEV_PLUG_DENIED  Control de dispositivos   \n",
      "3  GNRL_EV_DEVCTRL_DEV_PLUG_DENIED           Device Control   \n",
      "4  GNRL_EV_DEVCTRL_DEV_PLUG_DENIED           Device Control   \n",
      "\n",
      "                         rule.description                file.path  \\\n",
      "0  Operación con el dispositivo prohibida    \\Device\\Harddisk1\\DR1   \n",
      "1  Operación con el dispositivo prohibida  \\Device\\HarddiskVolume5   \n",
      "2  Operación con el dispositivo prohibida    \\Device\\Harddisk1\\DR2   \n",
      "3    Operation with the device prohibited    \\Device\\Harddisk1\\DR1   \n",
      "4    Operation with the device prohibited    \\Device\\Harddisk1\\DR1   \n",
      "\n",
      "  file.hash.md5 file.hash.sha256 danger.type virus.name event.reason  \\\n",
      "0             -                -           -          -            -   \n",
      "1             -                -           -          -            -   \n",
      "2             -                -           -          -            -   \n",
      "3             -                -           -          -            -   \n",
      "4             -                -           -          -            -   \n",
      "\n",
      "                source  \n",
      "0  antivirus_kaspersky  \n",
      "1  antivirus_kaspersky  \n",
      "2  antivirus_kaspersky  \n",
      "3  antivirus_kaspersky  \n",
      "4  antivirus_kaspersky  \n"
     ]
    }
   ],
   "source": [
    "# 6. Guardar datos procesados\n",
    "df_clean.to_csv(r\"C:\\Users\\alons\\Desktop\\Tesis_SIEM_ML\\data\\processed\\logs_unificados_limpios.csv\", index=False)\n",
    "print(df.head())"
   ]
  }
 ],
 "metadata": {
  "kernelspec": {
   "display_name": "Python 3",
   "language": "python",
   "name": "python3"
  },
  "language_info": {
   "codemirror_mode": {
    "name": "ipython",
    "version": 3
   },
   "file_extension": ".py",
   "mimetype": "text/x-python",
   "name": "python",
   "nbconvert_exporter": "python",
   "pygments_lexer": "ipython3",
   "version": "3.12.10"
  }
 },
 "nbformat": 4,
 "nbformat_minor": 5
}
