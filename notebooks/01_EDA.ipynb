{
 "cells": [
  {
   "cell_type": "code",
   "execution_count": null,
   "id": "0de7e358",
   "metadata": {},
   "outputs": [],
   "source": [
    "import pandas as pd, numpy as np\n",
    "import matplotlib.pyplot as plt, seaborn as sns\n",
    "from pathlib import Path\n",
    "\n",
    "# Ajusta:\n",
    "DATA_PATH = Path(\"/Users/alonso/Downloads/Tesis_SIEM_ML/data/raw/logs_unificados_limpios.csv\")  \n",
    "TARGET = \"action\"\n",
    "TIME_COL = \"timestamp\"                           \n",
    "\n",
    "df = pd.read_csv(DATA_PATH)\n",
    "df.head()"
   ]
  },
  {
  "tags": ["parameters"]
  },
  {
   "cell_type": "code",
   "execution_count": null,
   "id": "44d5644c",
   "metadata": {},
   "outputs": [],
   "source": [
    "df.info()\n",
    "df.describe(include=\"all\").T\n",
    "missing = df.isna().mean().sort_values(ascending=False)\n",
    "missing.head(20)\n",
    "dup_rate = df.duplicated().mean()\n",
    "dup_rate"
   ]
  },
  {
   "cell_type": "code",
   "execution_count": null,
   "id": "fabfec6d",
   "metadata": {},
   "outputs": [],
   "source": [
    "num_cols = df.select_dtypes(include=np.number).columns.tolist()\n",
    "cat_cols = [c for c in df.columns if c not in num_cols + [TARGET]]\n",
    "\n",
    "# numéricas\n",
    "for c in num_cols:\n",
    "    if c == TARGET: \n",
    "        continue\n",
    "    df[c].plot(kind=\"hist\", bins=30, title=f\"Distribución {c}\")\n",
    "    plt.xlabel(c); plt.show()\n",
    "\n",
    "# categóricas\n",
    "for c in cat_cols:\n",
    "    vc = df[c].value_counts().head(20)\n",
    "    vc.plot(kind=\"bar\", title=f\"Top categorías {c}\")\n",
    "    plt.xlabel(c); plt.show()"
   ]
  },
  {
   "cell_type": "code",
   "execution_count": null,
   "id": "4fe7836b",
   "metadata": {},
   "outputs": [],
   "source": [
    "if df[TARGET].dropna().isin([0,1]).all():\n",
    "    corr = df[num_cols+[TARGET]].corr(numeric_only=True)[TARGET].sort_values(ascending=False)\n",
    "    corr\n",
    "\n",
    "if TARGET in df.columns:\n",
    "    cls_vc = df[TARGET].value_counts(dropna=False)\n",
    "    cls_pct = (cls_vc / len(df)).round(3)\n",
    "    display(cls_vc, cls_pct)    \n",
    "\n",
    "time_col = \"timestamp\"   # ajusta\n",
    "if time_col in df.columns:\n",
    "    df[time_col] = pd.to_datetime(df[time_col], errors=\"coerce\")\n",
    "    df = df.sort_values(time_col)\n",
    "    # proporción de clase por mes\n",
    "    cls_by_month = df.groupby(pd.Grouper(key=time_col, freq=\"M\"))[TARGET].mean()\n",
    "    cls_by_month.plot(title=\"Proporción de clase positiva por mes\"); plt.show()\n"
   ]
  },
  {
   "cell_type": "code",
   "execution_count": null,
   "id": "50e60603",
   "metadata": {},
   "outputs": [],
   "source": [
    "drop_cols = []  \n",
    "df1 = df.drop(columns=[c for c in drop_cols if c in df.columns]).copy()\n",
    "\n",
    "df1 = df1.drop_duplicates()\n",
    "\n",
    "df1 = df1.dropna(subset=[TARGET])  \n",
    "\n",
    "df1.to_csv(\"data/processed/dataset_clean.csv\", index=False)\n",
    "df1.shape\n"
   ]
  }
 ],
 "metadata": {
  "language_info": {
   "name": "python"
  }
 },
 "nbformat": 4,
 "nbformat_minor": 5
}
