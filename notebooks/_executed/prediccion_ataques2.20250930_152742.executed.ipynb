{
 "cells": [
  {
   "cell_type": "code",
   "execution_count": 1,
   "id": "ada1ac24",
   "metadata": {
    "execution": {
     "iopub.execute_input": "2025-09-30T20:27:43.847050Z",
     "iopub.status.busy": "2025-09-30T20:27:43.846545Z",
     "iopub.status.idle": "2025-09-30T20:27:43.852944Z",
     "shell.execute_reply": "2025-09-30T20:27:43.852297Z"
    },
    "jupyter": {
     "source_hidden": true
    },
    "papermill": {
     "duration": 0.014766,
     "end_time": "2025-09-30T20:27:43.854444",
     "exception": false,
     "start_time": "2025-09-30T20:27:43.839678",
     "status": "completed"
    },
    "tags": [
     "injected-parameters"
    ]
   },
   "outputs": [],
   "source": [
    "# Parameters\n",
    "RAW_DIR = \"data/raw/\"\n",
    "PROCESSED_DIR = \"data/processed/\"\n",
    "RANDOM_STATE = 42\n"
   ]
  },
  {
   "cell_type": "code",
   "execution_count": 2,
   "id": "6bf85210",
   "metadata": {
    "execution": {
     "iopub.execute_input": "2025-09-30T20:27:43.859512Z",
     "iopub.status.busy": "2025-09-30T20:27:43.859209Z",
     "iopub.status.idle": "2025-09-30T20:27:43.869709Z",
     "shell.execute_reply": "2025-09-30T20:27:43.869222Z"
    },
    "jupyter": {
     "source_hidden": true
    },
    "papermill": {
     "duration": 0.014183,
     "end_time": "2025-09-30T20:27:43.870940",
     "exception": false,
     "start_time": "2025-09-30T20:27:43.856757",
     "status": "completed"
    },
    "tags": []
   },
   "outputs": [
    {
     "name": "stdout",
     "output_type": "stream",
     "text": [
      "Logs: /Users/alonso/Downloads/Tesis_SIEM_ML/data/processed_logs/logs_normalizados.csv\n",
      "Predicciones dir: /Users/alonso/Downloads/Tesis_SIEM_ML/data/processed/predictions\n"
     ]
    }
   ],
   "source": [
    "# Parameters (papermill)\n",
    "from pathlib import Path\n",
    "\n",
    "RAW_DIR = \"data/raw\"\n",
    "PROCESSED_DIR = \"data/processed\"\n",
    "PROCESSED_LOGS_DIR = \"data/processed_logs\"\n",
    "MODELS_DIR = \"data/processed/models\"\n",
    "PREDICTIONS_DIR = \"data/processed/predictions\"\n",
    "RANDOM_STATE = 42\n",
    "LOGS_FILE = \"logs_normalizados.csv\"  \n",
    "\n",
    "# Normalizar rutas y crear carpetas de salida si no existen\n",
    "RAW_DIR = Path(RAW_DIR)\n",
    "PROCESSED_DIR = Path(PROCESSED_DIR)\n",
    "PROCESSED_LOGS_DIR = Path(PROCESSED_LOGS_DIR)\n",
    "MODELS_DIR = Path(MODELS_DIR); MODELS_DIR.mkdir(parents=True, exist_ok=True)\n",
    "PREDICTIONS_DIR = Path(PREDICTIONS_DIR); PREDICTIONS_DIR.mkdir(parents=True, exist_ok=True)\n",
    "\n",
    "for d in (PROCESSED_DIR, PROCESSED_LOGS_DIR, MODELS_DIR, PREDICTIONS_DIR):\n",
    "    d.mkdir(parents=True, exist_ok=True)\n",
    "\n",
    "# Rutas de entrada/salida típicas\n",
    "ruta_logs = PROCESSED_LOGS_DIR / LOGS_FILE\n",
    "print(\"Logs:\", ruta_logs.resolve())\n",
    "print(\"Predicciones dir:\", PREDICTIONS_DIR.resolve())"
   ]
  },
  {
   "cell_type": "code",
   "execution_count": 3,
   "id": "58ac710a",
   "metadata": {
    "execution": {
     "iopub.execute_input": "2025-09-30T20:27:43.874865Z",
     "iopub.status.busy": "2025-09-30T20:27:43.874636Z",
     "iopub.status.idle": "2025-09-30T20:27:56.787814Z",
     "shell.execute_reply": "2025-09-30T20:27:56.787573Z"
    },
    "jupyter": {
     "source_hidden": true
    },
    "papermill": {
     "duration": 12.915798,
     "end_time": "2025-09-30T20:27:56.788512",
     "exception": false,
     "start_time": "2025-09-30T20:27:43.872714",
     "status": "completed"
    },
    "tags": []
   },
   "outputs": [
    {
     "name": "stderr",
     "output_type": "stream",
     "text": [
      "/var/folders/bp/v7lh779x20gg1xst0xdm5x5m0000gn/T/ipykernel_11113/3002151392.py:33: DtypeWarning: Columns (1,2,3,6,7) have mixed types. Specify dtype option on import or set low_memory=False.\n",
      "  df = pd.read_csv(ruta_logs)\n"
     ]
    },
    {
     "name": "stdout",
     "output_type": "stream",
     "text": [
      "=== Procesando modelo: rf_real ===\n"
     ]
    },
    {
     "name": "stderr",
     "output_type": "stream",
     "text": [
      "/opt/anaconda3/lib/python3.13/site-packages/sklearn/base.py:380: InconsistentVersionWarning: Trying to unpickle estimator DecisionTreeClassifier from version 1.7.0 when using version 1.6.1. This might lead to breaking code or invalid results. Use at your own risk. For more info please refer to:\n",
      "https://scikit-learn.org/stable/model_persistence.html#security-maintainability-limitations\n",
      "  warnings.warn(\n",
      "/opt/anaconda3/lib/python3.13/site-packages/sklearn/base.py:380: InconsistentVersionWarning: Trying to unpickle estimator RandomForestClassifier from version 1.7.0 when using version 1.6.1. This might lead to breaking code or invalid results. Use at your own risk. For more info please refer to:\n",
      "https://scikit-learn.org/stable/model_persistence.html#security-maintainability-limitations\n",
      "  warnings.warn(\n",
      "/opt/anaconda3/lib/python3.13/site-packages/sklearn/base.py:380: InconsistentVersionWarning: Trying to unpickle estimator LabelEncoder from version 1.7.0 when using version 1.6.1. This might lead to breaking code or invalid results. Use at your own risk. For more info please refer to:\n",
      "https://scikit-learn.org/stable/model_persistence.html#security-maintainability-limitations\n",
      "  warnings.warn(\n"
     ]
    },
    {
     "name": "stdout",
     "output_type": "stream",
     "text": [
      "=== Procesando modelo: rf_bal ===\n"
     ]
    },
    {
     "name": "stderr",
     "output_type": "stream",
     "text": [
      "/opt/anaconda3/lib/python3.13/site-packages/sklearn/base.py:380: InconsistentVersionWarning: Trying to unpickle estimator DecisionTreeClassifier from version 1.7.0 when using version 1.6.1. This might lead to breaking code or invalid results. Use at your own risk. For more info please refer to:\n",
      "https://scikit-learn.org/stable/model_persistence.html#security-maintainability-limitations\n",
      "  warnings.warn(\n",
      "/opt/anaconda3/lib/python3.13/site-packages/sklearn/base.py:380: InconsistentVersionWarning: Trying to unpickle estimator RandomForestClassifier from version 1.7.0 when using version 1.6.1. This might lead to breaking code or invalid results. Use at your own risk. For more info please refer to:\n",
      "https://scikit-learn.org/stable/model_persistence.html#security-maintainability-limitations\n",
      "  warnings.warn(\n",
      "/opt/anaconda3/lib/python3.13/site-packages/sklearn/base.py:380: InconsistentVersionWarning: Trying to unpickle estimator LabelEncoder from version 1.7.0 when using version 1.6.1. This might lead to breaking code or invalid results. Use at your own risk. For more info please refer to:\n",
      "https://scikit-learn.org/stable/model_persistence.html#security-maintainability-limitations\n",
      "  warnings.warn(\n"
     ]
    },
    {
     "name": "stdout",
     "output_type": "stream",
     "text": [
      "=== Procesando modelo: if ===\n"
     ]
    },
    {
     "name": "stdout",
     "output_type": "stream",
     "text": [
      "Resumen de predicciones:\n",
      "\n",
      "Modelo: rf_real\n",
      "pred_rf_real\n",
      "1    669347\n",
      "0    175969\n",
      "Name: count, dtype: int64\n",
      "\n",
      "Modelo: rf_bal\n",
      "pred_rf_bal\n",
      "1    669347\n",
      "0    175969\n",
      "Name: count, dtype: int64\n",
      "\n",
      "Modelo: if\n",
      "pred_if\n",
      " 1    831827\n",
      "-1     13489\n",
      "Name: count, dtype: int64\n"
     ]
    },
    {
     "name": "stdout",
     "output_type": "stream",
     "text": [
      "\n",
      "Archivo guardado como 'resultados_predicciones.csv'\n"
     ]
    }
   ],
   "source": [
    "import pandas as pd\n",
    "import joblib\n",
    "import os\n",
    "\n",
    "# RUTAS\n",
    "ruta_logs = \"/Users/alonso/Downloads/Tesis_SIEM_ML/data/processed_logs/logs_normalizados.csv\"\n",
    "\n",
    "# Rutas a modelos y encoders ya entrenados\n",
    "ruta_modelos = {\n",
    "    \"rf_real\": \"/Users/alonso/Downloads/Tesis_SIEM_ML/modelos/rf_modelo_supervisado_real.pkl\",\n",
    "    \"rf_bal\": \"/Users/alonso/Downloads/Tesis_SIEM_ML/modelos/rf_modelo_supervisado_balanceado.pkl\",\n",
    "    \"if\": \"/Users/alonso/Downloads/Tesis_SIEM_ML/modelos/modelo_isolation_forest.pkl\"\n",
    "}\n",
    "\n",
    "ruta_encoders = {\n",
    "    \"rf_real\": \"/Users/alonso/Downloads/Tesis_SIEM_ML/modelos/label_encoders_supervisado_real.pkl\",\n",
    "    \"rf_bal\": \"/Users/alonso/Downloads/Tesis_SIEM_ML/modelos/label_encoders_supervisado_balanceado.pkl\",\n",
    "    \"if\": \"/Users/alonso/Downloads/Tesis_SIEM_ML/modelos/label_encoders_isolation_forest.pkl\"\n",
    "}\n",
    "\n",
    "# FUNCIONES AUXILIARES\n",
    "\n",
    "def aplicar_label_encoding_robusto(df, encoders):\n",
    "    df_encoded = df.copy()\n",
    "    for col, encoder in encoders.items():\n",
    "        df_encoded[col] = df_encoded[col].fillna(\"\").astype(str)\n",
    "        clases = encoder.classes_\n",
    "        mapa = {clase: i for i, clase in enumerate(clases)}\n",
    "        df_encoded[col] = df_encoded[col].apply(lambda val: mapa.get(val, -1))\n",
    "    return df_encoded\n",
    "\n",
    "# CARGA DE LOGS\n",
    "df = pd.read_csv(ruta_logs)\n",
    "\n",
    "# --- Normaliza nombres de columnas para evitar fallos por mayúsculas/puntos/espacios ---\n",
    "original_cols = df.columns.tolist()\n",
    "df.columns = (\n",
    "    df.columns\n",
    "      .str.strip()\n",
    "      .str.lower()\n",
    "      .str.replace(\" \", \"_\")\n",
    ")\n",
    "\n",
    "# Mapea alias conocidos -> nombre canónico\n",
    "rename_map = {\n",
    "    \"event.channel\": \"channel\",\n",
    "    \"event_channel\": \"channel\",\n",
    "    \"log.channel\": \"channel\",\n",
    "    \"log_level\": \"log_level\",        \n",
    "    \"message\": \"description\",\n",
    "    \"event.original\": \"description\",\n",
    "    \"event_action\": \"action\",\n",
    "    \"event.action\": \"action\",\n",
    "    \"user.name\": \"src_user\",\n",
    "    \"related.user\": \"src_user\",\n",
    "}\n",
    "df.rename(columns={k: v for k, v in rename_map.items() if k in df.columns}, inplace=True)\n",
    "\n",
    "# --- Asegura columnas mínimas ---\n",
    "required = [\"description\", \"object_type\", \"channel\", \"log_level\", \"action\"]\n",
    "for col in required:\n",
    "    if col not in df.columns:\n",
    "        df[col] = \"desconocido\"  # o pd.NA si prefieres\n",
    "\n",
    "faltantes = [c for c in required if c not in original_cols and c in df.columns]\n",
    "\n",
    "# PREDICCIÓN CON TODOS LOS MODELOS \n",
    "resultados = {}\n",
    "\n",
    "for clave in ruta_modelos:\n",
    "    print(f\"=== Procesando modelo: {clave} ===\")\n",
    "    modelo = joblib.load(ruta_modelos[clave])\n",
    "    encoders = joblib.load(ruta_encoders[clave])\n",
    "\n",
    "    df_copia = df.copy()\n",
    "    df_encoded = aplicar_label_encoding_robusto(df_copia, encoders)\n",
    "    df_encoded = df_encoded[list(encoders.keys())]\n",
    "\n",
    "    # Hacer predicción\n",
    "    df[f\"pred_{clave}\"] = modelo.predict(df_encoded)\n",
    "    resultados[clave] = df[f\"pred_{clave}\"].value_counts()\n",
    "\n",
    "print(\"Resumen de predicciones:\")\n",
    "for clave, valores in resultados.items():\n",
    "    print(f\"\\nModelo: {clave}\")\n",
    "    print(valores)\n",
    "\n",
    "# (Opcional) Guardar el resultado con las predicciones\n",
    "df.to_csv(PREDICTIONS_DIR / \"resultados_predicciones.csv\",\n",
    "          index=False, encoding=\"utf-8-sig\")\n",
    "print(\"\\nArchivo guardado como 'resultados_predicciones.csv'\")"
   ]
  },
  {
   "cell_type": "code",
   "execution_count": 4,
   "id": "f334773b",
   "metadata": {
    "execution": {
     "iopub.execute_input": "2025-09-30T20:27:56.790780Z",
     "iopub.status.busy": "2025-09-30T20:27:56.790661Z",
     "iopub.status.idle": "2025-09-30T20:27:57.277504Z",
     "shell.execute_reply": "2025-09-30T20:27:57.277238Z"
    },
    "jupyter": {
     "source_hidden": true
    },
    "papermill": {
     "duration": 0.488665,
     "end_time": "2025-09-30T20:27:57.278213",
     "exception": false,
     "start_time": "2025-09-30T20:27:56.789548",
     "status": "completed"
    },
    "tags": []
   },
   "outputs": [
    {
     "name": "stdout",
     "output_type": "stream",
     "text": [
      "\n",
      "=== EJEMPLOS DE PREDICCIONES ===\n",
      " pred_rf_real  pred_rf_bal  pred_if                   timestamp src_ip dst_ip protocol                     action                             description event_id severity         src_user   object_type                                   object_name      log_source  fuente     channel   log_level\n",
      "            0            0        1 May 10, 2025 @ 15:47:04.800    NaN    NaN      NaN object-operation-performed   Se realizó una operación en un objeto      NaN      NaN 60127-099940047$ WMI Namespace root\\cimv2\\Security\\MicrosoftVolumeEncryption 60127-099940047 windows desconocido desconocido\n",
      "            0            0        1 May 10, 2025 @ 15:47:04.800    NaN    NaN      NaN object-operation-performed   Se realizó una operación en un objeto      NaN      NaN 60127-099940047$ WMI Namespace root\\cimv2\\Security\\MicrosoftVolumeEncryption 60127-099940047 windows desconocido desconocido\n",
      "            0            0        1 May 10, 2025 @ 15:47:04.798    NaN    NaN      NaN object-operation-performed   Se realizó una operación en un objeto      NaN      NaN 60127-099940047$ WMI Namespace root\\cimv2\\Security\\MicrosoftVolumeEncryption 60127-099940047 windows desconocido desconocido\n",
      "            0            0        1 May 10, 2025 @ 15:47:04.797    NaN    NaN      NaN object-operation-performed   Se realizó una operación en un objeto      NaN      NaN 60127-099940047$ WMI Namespace root\\cimv2\\Security\\MicrosoftVolumeEncryption 60127-099940047 windows desconocido desconocido\n",
      "            0            0        1 May 10, 2025 @ 15:47:04.796    NaN    NaN      NaN        permissions-changed Se cambiaron los permisos de un objeto.      NaN      NaN 60127-099940047$         Token                                             - 60127-099940047 windows desconocido desconocido\n",
      "\n",
      "=== EJEMPLOS POSITIVOS DETECTADOS POR RF REAL ===\n",
      " pred_rf_real  pred_rf_bal  pred_if                   timestamp src_ip dst_ip protocol                                   action description event_id severity         src_user object_type object_name      log_source  fuente     channel   log_level\n",
      "            1            1        1 May 10, 2025 @ 15:46:51.585    NaN    NaN      NaN credential-manager-credentials-were-read           -      NaN      NaN 60127-099940047$           -           - 60127-099940047 windows desconocido desconocido\n",
      "            1            1        1 May 10, 2025 @ 15:46:51.585    NaN    NaN      NaN credential-manager-credentials-were-read           -      NaN      NaN 60127-099940047$           -           - 60127-099940047 windows desconocido desconocido\n",
      "            1            1        1 May 10, 2025 @ 15:46:39.406    NaN    NaN      NaN credential-manager-credentials-were-read           -      NaN      NaN 60127-099940044$           -           - 60127-099940044 windows desconocido desconocido\n",
      "            1            1        1 May 10, 2025 @ 15:46:39.405    NaN    NaN      NaN credential-manager-credentials-were-read           -      NaN      NaN 60127-099940044$           -           - 60127-099940044 windows desconocido desconocido\n",
      "            1            1        1 May 10, 2025 @ 15:46:39.405    NaN    NaN      NaN credential-manager-credentials-were-read           -      NaN      NaN 60127-099940044$           -           - 60127-099940044 windows desconocido desconocido\n",
      "\n",
      "=== EJEMPLOS POSITIVOS DETECTADOS POR RF BALANCEADO ===\n"
     ]
    },
    {
     "name": "stdout",
     "output_type": "stream",
     "text": [
      " pred_rf_real  pred_rf_bal  pred_if                   timestamp src_ip dst_ip protocol                                   action description event_id severity         src_user object_type object_name      log_source  fuente     channel   log_level\n",
      "            1            1        1 May 10, 2025 @ 15:46:51.585    NaN    NaN      NaN credential-manager-credentials-were-read           -      NaN      NaN 60127-099940047$           -           - 60127-099940047 windows desconocido desconocido\n",
      "            1            1        1 May 10, 2025 @ 15:46:51.585    NaN    NaN      NaN credential-manager-credentials-were-read           -      NaN      NaN 60127-099940047$           -           - 60127-099940047 windows desconocido desconocido\n",
      "            1            1        1 May 10, 2025 @ 15:46:39.406    NaN    NaN      NaN credential-manager-credentials-were-read           -      NaN      NaN 60127-099940044$           -           - 60127-099940044 windows desconocido desconocido\n",
      "            1            1        1 May 10, 2025 @ 15:46:39.405    NaN    NaN      NaN credential-manager-credentials-were-read           -      NaN      NaN 60127-099940044$           -           - 60127-099940044 windows desconocido desconocido\n",
      "            1            1        1 May 10, 2025 @ 15:46:39.405    NaN    NaN      NaN credential-manager-credentials-were-read           -      NaN      NaN 60127-099940044$           -           - 60127-099940044 windows desconocido desconocido\n",
      "\n",
      "=== EJEMPLOS POSITIVOS DETECTADOS POR ISOLATION FOREST ===\n",
      " pred_rf_real  pred_rf_bal  pred_if                   timestamp src_ip dst_ip protocol                     action                             description event_id severity         src_user   object_type                                   object_name      log_source  fuente     channel   log_level\n",
      "            0            0        1 May 10, 2025 @ 15:47:04.800    NaN    NaN      NaN object-operation-performed   Se realizó una operación en un objeto      NaN      NaN 60127-099940047$ WMI Namespace root\\cimv2\\Security\\MicrosoftVolumeEncryption 60127-099940047 windows desconocido desconocido\n",
      "            0            0        1 May 10, 2025 @ 15:47:04.800    NaN    NaN      NaN object-operation-performed   Se realizó una operación en un objeto      NaN      NaN 60127-099940047$ WMI Namespace root\\cimv2\\Security\\MicrosoftVolumeEncryption 60127-099940047 windows desconocido desconocido\n",
      "            0            0        1 May 10, 2025 @ 15:47:04.798    NaN    NaN      NaN object-operation-performed   Se realizó una operación en un objeto      NaN      NaN 60127-099940047$ WMI Namespace root\\cimv2\\Security\\MicrosoftVolumeEncryption 60127-099940047 windows desconocido desconocido\n",
      "            0            0        1 May 10, 2025 @ 15:47:04.797    NaN    NaN      NaN object-operation-performed   Se realizó una operación en un objeto      NaN      NaN 60127-099940047$ WMI Namespace root\\cimv2\\Security\\MicrosoftVolumeEncryption 60127-099940047 windows desconocido desconocido\n",
      "            0            0        1 May 10, 2025 @ 15:47:04.796    NaN    NaN      NaN        permissions-changed Se cambiaron los permisos de un objeto.      NaN      NaN 60127-099940047$         Token                                             - 60127-099940047 windows desconocido desconocido\n",
      "\n",
      "=== EJEMPLOS DONDE LOS MODELOS NO COINCIDEN ===\n",
      " pred_rf_real  pred_rf_bal  pred_if                   timestamp src_ip dst_ip protocol                     action                             description event_id severity         src_user   object_type                                   object_name      log_source  fuente     channel   log_level\n",
      "            0            0        1 May 10, 2025 @ 15:47:04.800    NaN    NaN      NaN object-operation-performed   Se realizó una operación en un objeto      NaN      NaN 60127-099940047$ WMI Namespace root\\cimv2\\Security\\MicrosoftVolumeEncryption 60127-099940047 windows desconocido desconocido\n",
      "            0            0        1 May 10, 2025 @ 15:47:04.800    NaN    NaN      NaN object-operation-performed   Se realizó una operación en un objeto      NaN      NaN 60127-099940047$ WMI Namespace root\\cimv2\\Security\\MicrosoftVolumeEncryption 60127-099940047 windows desconocido desconocido\n",
      "            0            0        1 May 10, 2025 @ 15:47:04.798    NaN    NaN      NaN object-operation-performed   Se realizó una operación en un objeto      NaN      NaN 60127-099940047$ WMI Namespace root\\cimv2\\Security\\MicrosoftVolumeEncryption 60127-099940047 windows desconocido desconocido\n",
      "            0            0        1 May 10, 2025 @ 15:47:04.797    NaN    NaN      NaN object-operation-performed   Se realizó una operación en un objeto      NaN      NaN 60127-099940047$ WMI Namespace root\\cimv2\\Security\\MicrosoftVolumeEncryption 60127-099940047 windows desconocido desconocido\n",
      "            0            0        1 May 10, 2025 @ 15:47:04.796    NaN    NaN      NaN        permissions-changed Se cambiaron los permisos de un objeto.      NaN      NaN 60127-099940047$         Token                                             - 60127-099940047 windows desconocido desconocido\n"
     ]
    }
   ],
   "source": [
    "# Mostrar ejemplos concretos de predicción\n",
    "print(\"\\n=== EJEMPLOS DE PREDICCIONES ===\")\n",
    "columnas_pred = ['pred_rf_real', 'pred_rf_bal', 'pred_if']\n",
    "columnas_mostrar = columnas_pred + [col for col in df.columns if col not in columnas_pred]\n",
    "df_ejemplos = df[columnas_mostrar].head(5)\n",
    "print(df_ejemplos.to_string(index=False))\n",
    "\n",
    "# Mostrar ejemplos positivos detectados por RF real\n",
    "print(\"\\n=== EJEMPLOS POSITIVOS DETECTADOS POR RF REAL ===\")\n",
    "ej_rf_real = df[df['pred_rf_real'] == 1][columnas_mostrar].head(5)\n",
    "print(ej_rf_real.to_string(index=False))\n",
    "\n",
    "# Mostrar ejemplos positivos detectados por RF balanceado\n",
    "print(\"\\n=== EJEMPLOS POSITIVOS DETECTADOS POR RF BALANCEADO ===\")\n",
    "ej_rf_bal = df[df['pred_rf_bal'] == 1][columnas_mostrar].head(5)\n",
    "print(ej_rf_bal.to_string(index=False))\n",
    "\n",
    "# Mostrar ejemplos positivos detectados por Isolation Forest\n",
    "print(\"\\n=== EJEMPLOS POSITIVOS DETECTADOS POR ISOLATION FOREST ===\")\n",
    "ej_if = df[df['pred_if'] == 1][columnas_mostrar].head(5)\n",
    "print(ej_if.to_string(index=False))\n",
    "\n",
    "# Mostrar ejemplos donde los modelos no coinciden\n",
    "print(\"\\n=== EJEMPLOS DONDE LOS MODELOS NO COINCIDEN ===\")\n",
    "df_diferencias = df[\n",
    "    (df['pred_rf_real'] != df['pred_rf_bal']) |\n",
    "    (df['pred_rf_real'] != df['pred_if']) |\n",
    "    (df['pred_rf_bal'] != df['pred_if'])\n",
    "]\n",
    "df_diferencias_mostrar = df_diferencias[columnas_mostrar].head(5)\n",
    "print(df_diferencias_mostrar.to_string(index=False))\n",
    "\n",
    "# Guardar ejemplos discrepantes en un archivo CSV para revisión adicional\n",
    "# df_diferencias_mostrar.to_csv(\"/Users/alonso/Downloads/Tesis_SIEM_ML/data/ejemplos_discrepantes.csv\", index=False)"
   ]
  },
  {
   "cell_type": "code",
   "execution_count": 5,
   "id": "ffd2ddf7",
   "metadata": {
    "execution": {
     "iopub.execute_input": "2025-09-30T20:27:57.281725Z",
     "iopub.status.busy": "2025-09-30T20:27:57.281585Z",
     "iopub.status.idle": "2025-09-30T20:27:57.343236Z",
     "shell.execute_reply": "2025-09-30T20:27:57.342934Z"
    },
    "jupyter": {
     "source_hidden": true
    },
    "papermill": {
     "duration": 0.064507,
     "end_time": "2025-09-30T20:27:57.343968",
     "exception": false,
     "start_time": "2025-09-30T20:27:57.279461",
     "status": "completed"
    },
    "tags": []
   },
   "outputs": [
    {
     "name": "stdout",
     "output_type": "stream",
     "text": [
      "\n",
      "=== INFORMES DETALLADOS CON EXPLICACIÓN DE ANOMALÍA ===\n"
     ]
    },
    {
     "name": "stdout",
     "output_type": "stream",
     "text": [
      "\n",
      " EVENTO 1 - ANÁLISIS DETALLADO\n",
      " Fecha y hora: May 10, 2025 @ 15:47:04.800\n",
      " Usuario: 60127-099940047$\n",
      " Acción: object-operation-performed\n",
      " Descripción: Se realizó una operación en un objeto\n",
      " Objeto afectado: WMI Namespace\n",
      " Canal: desconocido\n",
      " Nivel del log: desconocido\n",
      "\n",
      " RESPUESTA DE LOS MODELOS:\n",
      " [RF Real] No considera este evento riesgoso.\n",
      " [RF Balanceado] Evento clasificado como normal.\n",
      " [Isolation Forest] Detectó una ANOMALÍA.\n",
      " Posible explicación:\n",
      "    • El evento fue ejecutado por una cuenta de sistema o servicio, lo cual puede ocultar actividad maliciosa.\n",
      "    • El evento fue registrado en un canal poco común.\n",
      "\n",
      " CONCLUSIÓN:\n",
      " Este evento requiere revisión humana. Múltiples señales apuntan a comportamiento sospechoso.\n",
      "\n",
      " EVENTO 2 - ANÁLISIS DETALLADO\n",
      " Fecha y hora: May 10, 2025 @ 15:47:04.800\n",
      " Usuario: 60127-099940047$\n",
      " Acción: object-operation-performed\n",
      " Descripción: Se realizó una operación en un objeto\n",
      " Objeto afectado: WMI Namespace\n",
      " Canal: desconocido\n",
      " Nivel del log: desconocido\n",
      "\n",
      " RESPUESTA DE LOS MODELOS:\n",
      " [RF Real] No considera este evento riesgoso.\n",
      " [RF Balanceado] Evento clasificado como normal.\n",
      " [Isolation Forest] Detectó una ANOMALÍA.\n",
      " Posible explicación:\n",
      "    • El evento fue ejecutado por una cuenta de sistema o servicio, lo cual puede ocultar actividad maliciosa.\n",
      "    • El evento fue registrado en un canal poco común.\n",
      "\n",
      " CONCLUSIÓN:\n",
      " Este evento requiere revisión humana. Múltiples señales apuntan a comportamiento sospechoso.\n",
      "\n",
      " EVENTO 3 - ANÁLISIS DETALLADO\n",
      " Fecha y hora: May 10, 2025 @ 15:47:04.798\n",
      " Usuario: 60127-099940047$\n",
      " Acción: object-operation-performed\n",
      " Descripción: Se realizó una operación en un objeto\n",
      " Objeto afectado: WMI Namespace\n",
      " Canal: desconocido\n",
      " Nivel del log: desconocido\n",
      "\n",
      " RESPUESTA DE LOS MODELOS:\n",
      " [RF Real] No considera este evento riesgoso.\n",
      " [RF Balanceado] Evento clasificado como normal.\n",
      " [Isolation Forest] Detectó una ANOMALÍA.\n",
      " Posible explicación:\n",
      "    • El evento fue ejecutado por una cuenta de sistema o servicio, lo cual puede ocultar actividad maliciosa.\n",
      "    • El evento fue registrado en un canal poco común.\n",
      "\n",
      " CONCLUSIÓN:\n",
      " Este evento requiere revisión humana. Múltiples señales apuntan a comportamiento sospechoso.\n",
      "\n",
      " EVENTO 4 - ANÁLISIS DETALLADO\n",
      " Fecha y hora: May 10, 2025 @ 15:47:04.797\n",
      " Usuario: 60127-099940047$\n",
      " Acción: object-operation-performed\n",
      " Descripción: Se realizó una operación en un objeto\n",
      " Objeto afectado: WMI Namespace\n",
      " Canal: desconocido\n",
      " Nivel del log: desconocido\n",
      "\n",
      " RESPUESTA DE LOS MODELOS:\n",
      " [RF Real] No considera este evento riesgoso.\n",
      " [RF Balanceado] Evento clasificado como normal.\n",
      " [Isolation Forest] Detectó una ANOMALÍA.\n",
      " Posible explicación:\n",
      "    • El evento fue ejecutado por una cuenta de sistema o servicio, lo cual puede ocultar actividad maliciosa.\n",
      "    • El evento fue registrado en un canal poco común.\n",
      "\n",
      " CONCLUSIÓN:\n",
      " Este evento requiere revisión humana. Múltiples señales apuntan a comportamiento sospechoso.\n",
      "\n",
      " EVENTO 5 - ANÁLISIS DETALLADO\n",
      " Fecha y hora: May 10, 2025 @ 15:47:04.796\n",
      " Usuario: 60127-099940047$\n",
      " Acción: permissions-changed\n",
      " Descripción: Se cambiaron los permisos de un objeto.\n",
      " Objeto afectado: Token\n",
      " Canal: desconocido\n",
      " Nivel del log: desconocido\n",
      "\n",
      " RESPUESTA DE LOS MODELOS:\n",
      " [RF Real] No considera este evento riesgoso.\n",
      " [RF Balanceado] Evento clasificado como normal.\n",
      " [Isolation Forest] Detectó una ANOMALÍA.\n",
      " Posible explicación:\n",
      "    • El evento fue ejecutado por una cuenta de sistema o servicio, lo cual puede ocultar actividad maliciosa.\n",
      "    • Hubo un cambio de permisos, lo cual puede estar asociado a escalamiento de privilegios.\n",
      "    • El evento fue registrado en un canal poco común.\n",
      "\n",
      " CONCLUSIÓN:\n",
      " Este evento requiere revisión humana. Múltiples señales apuntan a comportamiento sospechoso.\n",
      "\n",
      " Fin del informe detallado.\n"
     ]
    }
   ],
   "source": [
    "print(\"\\n=== INFORMES DETALLADOS CON EXPLICACIÓN DE ANOMALÍA ===\")\n",
    "\n",
    "# Columnas necesarias\n",
    "columnas_pred = ['pred_rf_real', 'pred_rf_bal', 'pred_if']\n",
    "columnas_mostrar = columnas_pred + [\n",
    "    col for col in df.columns if col in ['timestamp', 'src_user', 'action', 'description', 'object_type', 'channel', 'log_level']\n",
    "]\n",
    "\n",
    "# Selección de ejemplos\n",
    "df_ejemplos = df[columnas_mostrar].head(5)\n",
    "\n",
    "# Revisión de cada evento\n",
    "for idx, row in df_ejemplos.iterrows():\n",
    "    print(f\"\\n EVENTO {idx+1} - ANÁLISIS DETALLADO\")\n",
    "    print(f\" Fecha y hora: {row['timestamp']}\")\n",
    "    print(f\" Usuario: {row['src_user']}\")\n",
    "    print(f\" Acción: {row['action']}\")\n",
    "    print(f\" Descripción: {row['description']}\")\n",
    "    print(f\" Objeto afectado: {row['object_type']}\")\n",
    "    print(f\" Canal: {row['channel']}\")\n",
    "    print(f\" Nivel del log: {row['log_level']}\")\n",
    "\n",
    "    print(\"\\n RESPUESTA DE LOS MODELOS:\")\n",
    "\n",
    "    # Random Forest Real\n",
    "    if row['pred_rf_real'] == 1:\n",
    "        print(\" [RF Real] Detectó posible AMENAZA basada en datos reales.\")\n",
    "    else:\n",
    "        print(\" [RF Real] No considera este evento riesgoso.\")\n",
    "\n",
    "    # Random Forest Balanceado\n",
    "    if row['pred_rf_bal'] == 1:\n",
    "        print(\" [RF Balanceado] También lo detectó como AMENAZA.\")\n",
    "    else:\n",
    "        print(\" [RF Balanceado] Evento clasificado como normal.\")\n",
    "\n",
    "    # Isolation Forest\n",
    "    if row['pred_if'] in [1, -1]:\n",
    "        print(\" [Isolation Forest] Detectó una ANOMALÍA.\")\n",
    "        print(\" Posible explicación:\")\n",
    "\n",
    "        # Explicación basada en heurística\n",
    "        if pd.isna(row['src_user']) or '$' in str(row['src_user']):\n",
    "            print(\"    • El evento fue ejecutado por una cuenta de sistema o servicio, lo cual puede ocultar actividad maliciosa.\")\n",
    "        if \"credential\" in str(row['action']).lower():\n",
    "            print(\"    • Se accedió al gestor de credenciales, lo que suele ser inusual en logs normales.\")\n",
    "        if \"permissions\" in str(row['action']).lower():\n",
    "            print(\"    • Hubo un cambio de permisos, lo cual puede estar asociado a escalamiento de privilegios.\")\n",
    "        if row['log_level'] in ['critical', 'error']:\n",
    "            print(\"    • El nivel del log es alto, indicando un posible incidente o fallo importante.\")\n",
    "        if row['channel'] not in ['System', 'Security']:\n",
    "            print(\"    • El evento fue registrado en un canal poco común.\")\n",
    "        if str(row['object_type']).strip() == '-' or pd.isna(row['object_type']):\n",
    "            print(\"    • No se especifica el tipo de objeto afectado, lo cual puede indicar evasión de registro.\")\n",
    "\n",
    "    else:\n",
    "        print(\" [Isolation Forest] No detectó ninguna anomalía.\")\n",
    "\n",
    "    print(\"\\n CONCLUSIÓN:\")\n",
    "    if row['pred_rf_real'] == 1 or row['pred_rf_bal'] == 1 or row['pred_if'] in [1, -1]:\n",
    "        print(\" Este evento requiere revisión humana. Múltiples señales apuntan a comportamiento sospechoso.\")\n",
    "    else:\n",
    "        print(\" El evento es considerado normal por todos los modelos.\")\n",
    "\n",
    "print(\"\\n Fin del informe detallado.\")"
   ]
  }
 ],
 "metadata": {
  "kernelspec": {
   "display_name": "Python 3",
   "language": "python",
   "name": "python3"
  },
  "language_info": {
   "codemirror_mode": {
    "name": "ipython",
    "version": 3
   },
   "file_extension": ".py",
   "mimetype": "text/x-python",
   "name": "python",
   "nbconvert_exporter": "python",
   "pygments_lexer": "ipython3",
   "version": "3.13.5"
  },
  "papermill": {
   "default_parameters": {},
   "duration": 14.801815,
   "end_time": "2025-09-30T20:27:57.762534",
   "environment_variables": {},
   "exception": null,
   "input_path": "notebooks/prediccion_ataques2.ipynb",
   "output_path": "notebooks/_executed/prediccion_ataques2.20250930_152742.executed.ipynb",
   "parameters": {
    "PROCESSED_DIR": "data/processed/",
    "RANDOM_STATE": 42,
    "RAW_DIR": "data/raw/"
   },
   "start_time": "2025-09-30T20:27:42.960719",
   "version": "2.6.0"
  }
 },
 "nbformat": 4,
 "nbformat_minor": 5
}