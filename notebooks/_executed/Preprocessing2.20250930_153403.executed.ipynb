{
 "cells": [
  {
   "cell_type": "code",
   "execution_count": 1,
   "id": "cd72066c",
   "metadata": {
    "execution": {
     "iopub.execute_input": "2025-09-30T20:34:04.128093Z",
     "iopub.status.busy": "2025-09-30T20:34:04.127424Z",
     "iopub.status.idle": "2025-09-30T20:34:04.132493Z",
     "shell.execute_reply": "2025-09-30T20:34:04.132004Z"
    },
    "jupyter": {
     "source_hidden": true
    },
    "papermill": {
     "duration": 0.013111,
     "end_time": "2025-09-30T20:34:04.134028",
     "exception": false,
     "start_time": "2025-09-30T20:34:04.120917",
     "status": "completed"
    },
    "tags": [
     "injected-parameters"
    ]
   },
   "outputs": [],
   "source": [
    "# Parameters\n",
    "RAW_DIR = \"data/raw/\"\n",
    "PROCESSED_DIR = \"data/processed/\"\n",
    "RANDOM_STATE = 42\n"
   ]
  },
  {
   "cell_type": "code",
   "execution_count": 2,
   "id": "d0230472",
   "metadata": {
    "execution": {
     "iopub.execute_input": "2025-09-30T20:34:04.140906Z",
     "iopub.status.busy": "2025-09-30T20:34:04.140540Z",
     "iopub.status.idle": "2025-09-30T20:34:04.144137Z",
     "shell.execute_reply": "2025-09-30T20:34:04.143490Z"
    },
    "jupyter": {
     "source_hidden": true
    },
    "papermill": {
     "duration": 0.007873,
     "end_time": "2025-09-30T20:34:04.145478",
     "exception": false,
     "start_time": "2025-09-30T20:34:04.137605",
     "status": "completed"
    },
    "tags": []
   },
   "outputs": [],
   "source": [
    "# Parameters (papermill)\n",
    "from pathlib import Path\n",
    "\n",
    "RAW_DIR = \"data/raw\"          # sobreescrito por papermill si usas --parameters\n",
    "PROCESSED_DIR = \"data/processed\"\n",
    "RANDOM_STATE = 42\n",
    "\n",
    "RAW_DIR = Path(RAW_DIR)\n",
    "PROCESSED_DIR = Path(PROCESSED_DIR)\n",
    "PROCESSED_DIR.mkdir(parents=True, exist_ok=True)"
   ]
  },
  {
   "cell_type": "code",
   "execution_count": 3,
   "id": "2d93f1c5",
   "metadata": {
    "execution": {
     "iopub.execute_input": "2025-09-30T20:34:04.151074Z",
     "iopub.status.busy": "2025-09-30T20:34:04.150672Z",
     "iopub.status.idle": "2025-09-30T20:34:05.151341Z",
     "shell.execute_reply": "2025-09-30T20:34:05.151074Z"
    },
    "jupyter": {
     "source_hidden": true
    },
    "papermill": {
     "duration": 1.004146,
     "end_time": "2025-09-30T20:34:05.152154",
     "exception": false,
     "start_time": "2025-09-30T20:34:04.148008",
     "status": "completed"
    },
    "tags": []
   },
   "outputs": [],
   "source": [
    "# LIBRERIAS \n",
    "import pandas as pd\n",
    "import numpy as np\n",
    "import hashlib\n",
    "import re\n",
    "from pathlib import Path\n",
    "from sklearn.preprocessing import LabelEncoder\n",
    "import joblib\n",
    "import os"
   ]
  },
  {
   "cell_type": "code",
   "execution_count": 4,
   "id": "7467dbaa",
   "metadata": {
    "execution": {
     "iopub.execute_input": "2025-09-30T20:34:05.154551Z",
     "iopub.status.busy": "2025-09-30T20:34:05.154383Z",
     "iopub.status.idle": "2025-09-30T20:34:06.154448Z",
     "shell.execute_reply": "2025-09-30T20:34:06.154186Z"
    },
    "jupyter": {
     "source_hidden": true
    },
    "papermill": {
     "duration": 1.001964,
     "end_time": "2025-09-30T20:34:06.155170",
     "exception": false,
     "start_time": "2025-09-30T20:34:05.153206",
     "status": "completed"
    },
    "tags": []
   },
   "outputs": [
    {
     "name": "stdout",
     "output_type": "stream",
     "text": [
      " Archivo procesado guardado en: /Users/alonso/Downloads/Tesis_SIEM_ML/data/processed_logs/logs_windows_estaciones.csv\n"
     ]
    }
   ],
   "source": [
    "# rocesamiento del archivo ML_event_windows_estaciones.csv\n",
    "# Rutas de entrada y salida\n",
    "input_path = Path(\"/Users/alonso/Downloads/Tesis_SIEM_ML/data/raw/ML_event_windows_estaciones.csv\")\n",
    "output_path = Path(\"/Users/alonso/Downloads/Tesis_SIEM_ML/data/processed_logs/logs_windows_estaciones.csv\")\n",
    "output_path.parent.mkdir(parents=True, exist_ok=True)\n",
    "\n",
    "# Cargar los datos \n",
    "df = pd.read_csv(input_path)\n",
    "\n",
    "# === Selección y renombramiento de columnas ===\n",
    "df_proc = df.rename(columns={\n",
    "    \"@timestamp\": \"timestamp\",\n",
    "    \"related.user\": \"src_user\",\n",
    "    \"winlog.event_data.ObjectType\": \"object_type\",\n",
    "    \"winlog.event_data.ObjectName\": \"object_name\",\n",
    "    \"event_critical.description\": \"description\",\n",
    "    \"event_critical.event_id\": \"event_id\",\n",
    "    \"log.level\": \"severity\",\n",
    "    \"event.action\": \"action\"\n",
    "})\n",
    "\n",
    "# Agregar columnas faltantes para el esquema estándar\n",
    "df_proc[\"src_ip\"] = None\n",
    "df_proc[\"dst_ip\"] = None\n",
    "df_proc[\"protocol\"] = \"N/A\"\n",
    "df_proc[\"log_source\"] = \"windows_estaciones\"\n",
    "\n",
    "# Renombrar columnas y seleccionar las importantes \n",
    "df_norm = pd.DataFrame()\n",
    "df_norm[\"timestamp\"] = df[\"@timestamp\"]\n",
    "df_norm[\"src_user\"] = df[\"related.user\"]\n",
    "df_norm[\"action\"] = df[\"event.action\"]\n",
    "df_norm[\"description\"] = df[\"event_critical.description\"]\n",
    "df_norm[\"object_type\"] = df[\"winlog.event_data.ObjectType\"]\n",
    "df_norm[\"object_name\"] = df[\"winlog.event_data.ObjectName\"]\n",
    "df_norm[\"channel\"] = df[\"winlog.channel\"]\n",
    "df_norm[\"log_level\"] = df[\"log.level\"]\n",
    "df_norm[\"log_source\"] = df[\"agent.name\"]\n",
    "\n",
    "# Normalizar valores de log_level a formato uniforme \n",
    "df_norm[\"log_level\"] = df_norm[\"log_level\"].str.lower().replace({\n",
    "    \"información\": \"info\",\n",
    "    \"advertencia\": \"warning\",\n",
    "    \"error\": \"error\"\n",
    "})\n",
    "\n",
    "# Limpiar espacios en blanco y valores vacíos\n",
    "df_norm = df_norm.fillna(\"-\")\n",
    "\n",
    "# Reordenar columnas al esquema estándar + útiles adicionales\n",
    "ordered_cols = [\n",
    "    \"timestamp\", \"src_ip\", \"dst_ip\", \"protocol\", \"action\", \"description\",\n",
    "    \"event_id\", \"severity\", \"src_user\", \"object_type\", \"object_name\", \"log_source\"\n",
    "]\n",
    "\n",
    "df_proc = df_proc[ordered_cols]\n",
    "\n",
    "# Guardar archivo procesado\n",
    "df_norm.to_csv(output_path, index=False)\n",
    "print(f\" Archivo procesado guardado en: {output_path}\")"
   ]
  },
  {
   "cell_type": "code",
   "execution_count": 5,
   "id": "8695650c",
   "metadata": {
    "execution": {
     "iopub.execute_input": "2025-09-30T20:34:06.157665Z",
     "iopub.status.busy": "2025-09-30T20:34:06.157553Z",
     "iopub.status.idle": "2025-09-30T20:34:06.407506Z",
     "shell.execute_reply": "2025-09-30T20:34:06.407241Z"
    },
    "jupyter": {
     "source_hidden": true
    },
    "papermill": {
     "duration": 0.251939,
     "end_time": "2025-09-30T20:34:06.408264",
     "exception": false,
     "start_time": "2025-09-30T20:34:06.156325",
     "status": "completed"
    },
    "tags": []
   },
   "outputs": [
    {
     "name": "stdout",
     "output_type": "stream",
     "text": [
      " Archivo procesado: /Users/alonso/Downloads/Tesis_SIEM_ML/data/processed_logs/logs_waf.csv\n"
     ]
    }
   ],
   "source": [
    "# Procesamiento del archivo ML_WAF.csv\n",
    "# Rutas\n",
    "input_path = Path(\"/Users/alonso/Downloads/Tesis_SIEM_ML/data/raw/ML_WAF.csv\")\n",
    "output_path = Path(\"/Users/alonso/Downloads/Tesis_SIEM_ML/data/processed_logs/logs_waf.csv\")\n",
    "output_path.parent.mkdir(parents=True, exist_ok=True)\n",
    "\n",
    "# Cargar datos\n",
    "df = pd.read_csv(input_path)\n",
    "\n",
    "# Renombrar y mapear columnas\n",
    "df_proc = df.rename(columns={\n",
    "    \"@timestamp\": \"timestamp\",\n",
    "    \"source.ip\": \"src_ip\",\n",
    "    \"destination.domain\": \"dst_ip\",\n",
    "    \"network.protocol\": \"protocol\",\n",
    "    \"http.request.method\": \"action\",\n",
    "    \"event.id\": \"event_id\",\n",
    "    \"rule.category\": \"category\",\n",
    "    \"url.original\": \"url\"\n",
    "})\n",
    "\n",
    "# Crear columna 'description' uniendo categoría de regla + URL\n",
    "df_proc[\"description\"] = df_proc[\"category\"].fillna('') + \" - \" + df_proc[\"url\"].fillna('')\n",
    "\n",
    "# Agregar columnas faltantes\n",
    "df_proc[\"severity\"] = None\n",
    "df_proc[\"src_user\"] = None\n",
    "df_proc[\"object_type\"] = None\n",
    "df_proc[\"object_name\"] = None\n",
    "df_proc[\"log_source\"] = \"waf\"\n",
    "\n",
    "# Reordenar columnas\n",
    "ordered_cols = [\n",
    "    \"timestamp\", \"src_ip\", \"dst_ip\", \"protocol\", \"action\", \"description\",\n",
    "    \"event_id\", \"severity\", \"src_user\", \"object_type\", \"object_name\", \"log_source\"\n",
    "]\n",
    "df_proc = df_proc[ordered_cols]\n",
    "\n",
    "# Guardar el archivo procesado\n",
    "df_proc.to_csv(output_path, index=False, encoding=\"utf-8-sig\")\n",
    "print(f\" Archivo procesado: {output_path}\")"
   ]
  },
  {
   "cell_type": "code",
   "execution_count": 6,
   "id": "bbb0a15d",
   "metadata": {
    "execution": {
     "iopub.execute_input": "2025-09-30T20:34:06.410722Z",
     "iopub.status.busy": "2025-09-30T20:34:06.410619Z",
     "iopub.status.idle": "2025-09-30T20:34:06.448620Z",
     "shell.execute_reply": "2025-09-30T20:34:06.448366Z"
    },
    "jupyter": {
     "source_hidden": true
    },
    "papermill": {
     "duration": 0.039928,
     "end_time": "2025-09-30T20:34:06.449302",
     "exception": false,
     "start_time": "2025-09-30T20:34:06.409374",
     "status": "completed"
    },
    "tags": []
   },
   "outputs": [
    {
     "name": "stdout",
     "output_type": "stream",
     "text": [
      " Archivo procesado: /Users/alonso/Downloads/Tesis_SIEM_ML/data/processed_logs/logs_antimalware.csv\n"
     ]
    }
   ],
   "source": [
    "# Procesamiento del archivo ML_antimalware.csv\n",
    "# Rutas\n",
    "input_path = Path(\"/Users/alonso/Downloads/Tesis_SIEM_ML/data/raw/ML_antimalware.csv\")\n",
    "output_path = Path(\"/Users/alonso/Downloads/Tesis_SIEM_ML/data/processed_logs/logs_antimalware.csv\")\n",
    "output_path.parent.mkdir(parents=True, exist_ok=True)\n",
    "\n",
    "# Cargar datos\n",
    "df = pd.read_csv(input_path)\n",
    "\n",
    "# Renombrar columnas relevantes\n",
    "df_proc = df.rename(columns={\n",
    "    \"@timestamp\": \"timestamp\",\n",
    "    \"network.protocol\": \"protocol\",\n",
    "    \"syslog.type\": \"action\",\n",
    "    \"file.name\": \"file_name\",\n",
    "    \"file.extension\": \"file_ext\",\n",
    "    \"risk.calculated_level\": \"risk_level\",\n",
    "    \"file.hash.sha256\": \"event_id\"\n",
    "})\n",
    "\n",
    "# Construir descripción combinada\n",
    "df_proc[\"description\"] = (\n",
    "    \"Archivo: \" + df_proc[\"file_name\"].fillna('') +\n",
    "    \".\" + df_proc[\"file_ext\"].fillna('') +\n",
    "    \" | Riesgo: \" + df_proc[\"risk_level\"].astype(str)\n",
    ")\n",
    "\n",
    "# Agregar columnas faltantes\n",
    "df_proc[\"src_ip\"] = None\n",
    "df_proc[\"dst_ip\"] = None\n",
    "df_proc[\"severity\"] = df_proc[\"risk_level\"]\n",
    "df_proc[\"src_user\"] = None\n",
    "df_proc[\"object_type\"] = \"file\"\n",
    "df_proc[\"object_name\"] = df_proc[\"file_name\"]\n",
    "df_proc[\"log_source\"] = \"antimalware\"\n",
    "\n",
    "# Reordenar columnas\n",
    "ordered_cols = [\n",
    "    \"timestamp\", \"src_ip\", \"dst_ip\", \"protocol\", \"action\", \"description\",\n",
    "    \"event_id\", \"severity\", \"src_user\", \"object_type\", \"object_name\", \"log_source\"\n",
    "]\n",
    "df_proc = df_proc[ordered_cols]\n",
    "\n",
    "# Guardar archivo procesado\n",
    "df_proc.to_csv(output_path, index=False, encoding=\"utf-8-sig\")\n",
    "print(f\" Archivo procesado: {output_path}\")"
   ]
  },
  {
   "cell_type": "code",
   "execution_count": 7,
   "id": "4da5e8e5",
   "metadata": {
    "execution": {
     "iopub.execute_input": "2025-09-30T20:34:06.451839Z",
     "iopub.status.busy": "2025-09-30T20:34:06.451731Z",
     "iopub.status.idle": "2025-09-30T20:34:08.940784Z",
     "shell.execute_reply": "2025-09-30T20:34:08.940520Z"
    },
    "jupyter": {
     "source_hidden": true
    },
    "papermill": {
     "duration": 2.491113,
     "end_time": "2025-09-30T20:34:08.941478",
     "exception": false,
     "start_time": "2025-09-30T20:34:06.450365",
     "status": "completed"
    },
    "tags": []
   },
   "outputs": [
    {
     "name": "stdout",
     "output_type": "stream",
     "text": [
      " Archivo procesado: /Users/alonso/Downloads/Tesis_SIEM_ML/data/processed_logs/logs_kaspersky.csv\n"
     ]
    }
   ],
   "source": [
    "# Procesamiento del archivo ML_antivirus_kaspersky.csv\n",
    "# Rutas\n",
    "input_path = Path(\"/Users/alonso/Downloads/Tesis_SIEM_ML/data/raw/ML_antivirus_kaspersky.csv\")\n",
    "output_path = Path(\"/Users/alonso/Downloads/Tesis_SIEM_ML/data/processed_logs/logs_kaspersky.csv\")\n",
    "output_path.parent.mkdir(parents=True, exist_ok=True)\n",
    "\n",
    "# Cargar datos\n",
    "df = pd.read_csv(input_path)\n",
    "\n",
    "# Renombrar columnas relevantes\n",
    "df_proc = df.rename(columns={\n",
    "    \"@timestamp\": \"timestamp\",\n",
    "    \"host.ip\": \"src_ip\",\n",
    "    \"event.reason\": \"action\",\n",
    "    \"file.path\": \"object_name\",\n",
    "    \"file.hash.sha256\": \"event_id\",\n",
    "    \"virus.name\": \"virus_name\",\n",
    "    \"danger.type\": \"danger_type\",\n",
    "    \"rule.description\": \"rule_description\"\n",
    "})\n",
    "\n",
    "# Crear descripción combinada\n",
    "df_proc[\"description\"] = (\n",
    "    \"Virus: \" + df_proc[\"virus_name\"].fillna('') +\n",
    "    \" | Tipo: \" + df_proc[\"danger_type\"].fillna('') +\n",
    "    \" | \" + df_proc[\"rule_description\"].fillna('')\n",
    ")\n",
    "\n",
    "# Agregar columnas faltantes\n",
    "df_proc[\"dst_ip\"] = None\n",
    "df_proc[\"protocol\"] = \"N/A\"\n",
    "df_proc[\"severity\"] = df_proc[\"danger_type\"]\n",
    "df_proc[\"src_user\"] = df[\"host.hostname\"]\n",
    "df_proc[\"object_type\"] = \"file\"\n",
    "df_proc[\"log_source\"] = \"antivirus_kaspersky\"\n",
    "\n",
    "# Reordenar columnas\n",
    "ordered_cols = [\n",
    "    \"timestamp\", \"src_ip\", \"dst_ip\", \"protocol\", \"action\", \"description\",\n",
    "    \"event_id\", \"severity\", \"src_user\", \"object_type\", \"object_name\", \"log_source\"\n",
    "]\n",
    "df_proc = df_proc[ordered_cols]\n",
    "\n",
    "# Guardar archivo procesado\n",
    "df_proc.to_csv(output_path, index=False, encoding=\"utf-8-sig\")\n",
    "print(f\" Archivo procesado: {output_path}\")\n"
   ]
  },
  {
   "cell_type": "code",
   "execution_count": 8,
   "id": "f361fc3c",
   "metadata": {
    "execution": {
     "iopub.execute_input": "2025-09-30T20:34:08.943916Z",
     "iopub.status.busy": "2025-09-30T20:34:08.943823Z",
     "iopub.status.idle": "2025-09-30T20:34:09.032342Z",
     "shell.execute_reply": "2025-09-30T20:34:09.032069Z"
    },
    "jupyter": {
     "source_hidden": true
    },
    "papermill": {
     "duration": 0.090461,
     "end_time": "2025-09-30T20:34:09.033085",
     "exception": false,
     "start_time": "2025-09-30T20:34:08.942624",
     "status": "completed"
    },
    "tags": []
   },
   "outputs": [
    {
     "name": "stdout",
     "output_type": "stream",
     "text": [
      " Archivo procesado: /Users/alonso/Downloads/Tesis_SIEM_ML/data/processed_logs/logs_antivirus_etiquetado.csv\n"
     ]
    }
   ],
   "source": [
    "# Procesamiento del archivo Logs-antivirus_etiquetado.csv\n",
    "# Rutas\n",
    "input_path = Path(\"/Users/alonso/Downloads/Tesis_SIEM_ML/data/raw/Logs-antivirus_etiquetado.csv\")\n",
    "output_path = Path(\"/Users/alonso/Downloads/Tesis_SIEM_ML/data/processed_logs/logs_antivirus_etiquetado.csv\")\n",
    "output_path.parent.mkdir(parents=True, exist_ok=True)\n",
    "\n",
    "# Cargar datos\n",
    "df = pd.read_csv(input_path)\n",
    "\n",
    "# Renombrar columnas relevantes\n",
    "df_proc = df.rename(columns={\n",
    "    \"@timestamp\": \"timestamp\",\n",
    "    \"host.ip\": \"src_ip\",\n",
    "    \"file.path\": \"object_name\",\n",
    "    \"file.hash.sha256\": \"event_id\",\n",
    "    \"virus.name\": \"virus_name\",\n",
    "    \"danger.type\": \"danger_type\",\n",
    "    \"rule.description\": \"rule_description\"\n",
    "})\n",
    "\n",
    "# Crear columna description\n",
    "df_proc[\"description\"] = (\n",
    "    \"Virus: \" + df_proc[\"virus_name\"].fillna('') +\n",
    "    \" | Tipo: \" + df_proc[\"danger_type\"].fillna('') +\n",
    "    \" | \" + df_proc[\"rule_description\"].fillna('')\n",
    ")\n",
    "\n",
    "# Agregar campos faltantes\n",
    "df_proc[\"dst_ip\"] = None\n",
    "df_proc[\"protocol\"] = \"N/A\"\n",
    "df_proc[\"severity\"] = df_proc[\"danger_type\"]\n",
    "df_proc[\"action\"] = \"Detectado\"\n",
    "df_proc[\"src_user\"] = df[\"host.hostname\"]\n",
    "df_proc[\"object_type\"] = \"file\"\n",
    "df_proc[\"log_source\"] = \"antivirus_etiquetado\"\n",
    "\n",
    "# Reordenar\n",
    "ordered_cols = [\n",
    "    \"timestamp\", \"src_ip\", \"dst_ip\", \"protocol\", \"action\", \"description\",\n",
    "    \"event_id\", \"severity\", \"src_user\", \"object_type\", \"object_name\", \"log_source\"\n",
    "]\n",
    "df_proc = df_proc[ordered_cols]\n",
    "\n",
    "# Guardar archivo final\n",
    "df_proc.to_csv(output_path, index=False, encoding=\"utf-8-sig\")\n",
    "print(f\" Archivo procesado: {output_path}\")\n"
   ]
  },
  {
   "cell_type": "code",
   "execution_count": 9,
   "id": "71b5beea",
   "metadata": {
    "execution": {
     "iopub.execute_input": "2025-09-30T20:34:09.035475Z",
     "iopub.status.busy": "2025-09-30T20:34:09.035370Z",
     "iopub.status.idle": "2025-09-30T20:34:09.064085Z",
     "shell.execute_reply": "2025-09-30T20:34:09.063816Z"
    },
    "jupyter": {
     "source_hidden": true
    },
    "papermill": {
     "duration": 0.030624,
     "end_time": "2025-09-30T20:34:09.064780",
     "exception": false,
     "start_time": "2025-09-30T20:34:09.034156",
     "status": "completed"
    },
    "tags": []
   },
   "outputs": [
    {
     "name": "stdout",
     "output_type": "stream",
     "text": [
      " Archivo procesado: /Users/alonso/Downloads/Tesis_SIEM_ML/data/processed_logs/logs_windows_server_correo.csv\n"
     ]
    }
   ],
   "source": [
    "# Procesamient odel archivo ML_event_windows_server_correo_interno.csv\n",
    "# Rutas\n",
    "input_path = Path(\"/Users/alonso/Downloads/Tesis_SIEM_ML/data/raw/ML_event_windows_server_correo_interno.csv\")\n",
    "output_path = Path(\"/Users/alonso/Downloads/Tesis_SIEM_ML/data/processed_logs/logs_windows_server_correo.csv\")\n",
    "output_path.parent.mkdir(parents=True, exist_ok=True)\n",
    "\n",
    "# Cargar datos\n",
    "df = pd.read_csv(input_path)\n",
    "\n",
    "# Renombrar columnas clave\n",
    "df_proc = df.rename(columns={\n",
    "    \"@timestamp\": \"timestamp\",\n",
    "    \"related.user\": \"src_user\",\n",
    "    \"winlog.event_data.ObjectType\": \"object_type\",\n",
    "    \"winlog.event_data.ObjectName\": \"object_name\",\n",
    "    \"event_critical.description\": \"description\",\n",
    "    \"event_critical.event_id\": \"event_id\",\n",
    "    \"log.level\": \"severity\",\n",
    "    \"event.action\": \"action\",\n",
    "    \"winlog.logon.failure.reason\": \"failure_reason\"\n",
    "})\n",
    "\n",
    "# Unir motivo de fallo con la descripción\n",
    "df_proc[\"description\"] = df_proc[\"description\"].fillna('') + \" | \" + df_proc[\"failure_reason\"].fillna('')\n",
    "\n",
    "# Agregar columnas faltantes\n",
    "df_proc[\"src_ip\"] = None\n",
    "df_proc[\"dst_ip\"] = None\n",
    "df_proc[\"protocol\"] = \"N/A\"\n",
    "df_proc[\"log_source\"] = \"windows_server_correo\"\n",
    "\n",
    "# Reordenar columnas\n",
    "ordered_cols = [\n",
    "    \"timestamp\", \"src_ip\", \"dst_ip\", \"protocol\", \"action\", \"description\",\n",
    "    \"event_id\", \"severity\", \"src_user\", \"object_type\", \"object_name\", \"log_source\"\n",
    "]\n",
    "df_proc = df_proc[ordered_cols]\n",
    "\n",
    "# Guardar archivo final\n",
    "df_proc.to_csv(output_path, index=False, encoding=\"utf-8-sig\")\n",
    "print(f\" Archivo procesado: {output_path}\")\n",
    "\n"
   ]
  },
  {
   "cell_type": "code",
   "execution_count": 10,
   "id": "949c7d2a",
   "metadata": {
    "execution": {
     "iopub.execute_input": "2025-09-30T20:34:09.067328Z",
     "iopub.status.busy": "2025-09-30T20:34:09.067222Z",
     "iopub.status.idle": "2025-09-30T20:34:13.459287Z",
     "shell.execute_reply": "2025-09-30T20:34:13.459018Z"
    },
    "jupyter": {
     "source_hidden": true
    },
    "papermill": {
     "duration": 4.394082,
     "end_time": "2025-09-30T20:34:13.460038",
     "exception": false,
     "start_time": "2025-09-30T20:34:09.065956",
     "status": "completed"
    },
    "tags": []
   },
   "outputs": [
    {
     "name": "stdout",
     "output_type": "stream",
     "text": [
      " Archivo unificado guardado en: /Users/alonso/Downloads/Tesis_SIEM_ML/data/processed_logs/logs_normalizados.csv\n"
     ]
    }
   ],
   "source": [
    "from pathlib import Path\n",
    "# Rutas\n",
    "BASE_PATH = Path(\"/Users/alonso/Downloads/Tesis_SIEM_ML\")\n",
    "PROCESSED_LOGS_PATH = BASE_PATH / \"data\" / \"processed_logs\"\n",
    "\n",
    "ARCHIVOS = {\n",
    "    \"windows\": \"logs_windows_estaciones.csv\",\n",
    "    \"kaspersky\": \"logs_kaspersky.csv\",\n",
    "    \"waf\": \"logs_waf.csv\",\n",
    "    \"antimalware\": \"logs_antimalware.csv\"\n",
    "}\n",
    "\n",
    "# Columnas estándar\n",
    "columnas_requeridas = [\n",
    "    'timestamp', 'src_ip', 'dst_ip', 'protocol', 'action',\n",
    "    'description', 'event_id', 'severity', 'src_user',\n",
    "    'object_type', 'object_name', 'log_source'\n",
    "]\n",
    "\n",
    "# Función para procesar cada archivo\n",
    "def cargar_log_estandar(nombre_archivo, fuente):\n",
    "    ruta = PROCESSED_LOGS_PATH / nombre_archivo\n",
    "    if not ruta.exists():\n",
    "        print(f\" Archivo no encontrado: {nombre_archivo}\")\n",
    "        return pd.DataFrame()  # Devuelve DataFrame vacío\n",
    "    \n",
    "    df = pd.read_csv(ruta)\n",
    "\n",
    "    # Asegurar columnas requeridas\n",
    "    for col in columnas_requeridas:\n",
    "        if col not in df.columns:\n",
    "            df[col] = None\n",
    "\n",
    "    df = df[columnas_requeridas]\n",
    "    df[\"fuente\"] = fuente\n",
    "    return df\n",
    "\n",
    "# Unificación\n",
    "df_final = pd.DataFrame()\n",
    "\n",
    "for fuente, archivo in ARCHIVOS.items():\n",
    "    df_temp = cargar_log_estandar(archivo, fuente)\n",
    "    df_final = pd.concat([df_final, df_temp], ignore_index=True)\n",
    "\n",
    "# Limpieza básica\n",
    "df_final.dropna(subset=[\"timestamp\", \"action\"], inplace=True)\n",
    "df_final.reset_index(drop=True, inplace=True)\n",
    "\n",
    "# Guardado final\n",
    "output_path = PROCESSED_LOGS_PATH / \"logs_normalizados.csv\"\n",
    "df_final.to_csv(output_path, index=False)\n",
    "print(f\" Archivo unificado guardado en: {output_path}\")"
   ]
  }
 ],
 "metadata": {
  "kernelspec": {
   "display_name": ".conda",
   "language": "python",
   "name": "python3"
  },
  "language_info": {
   "codemirror_mode": {
    "name": "ipython",
    "version": 3
   },
   "file_extension": ".py",
   "mimetype": "text/x-python",
   "name": "python",
   "nbconvert_exporter": "python",
   "pygments_lexer": "ipython3",
   "version": "3.13.5"
  },
  "papermill": {
   "default_parameters": {},
   "duration": 10.375628,
   "end_time": "2025-09-30T20:34:13.777588",
   "environment_variables": {},
   "exception": null,
   "input_path": "notebooks/Preprocessing2.ipynb",
   "output_path": "notebooks/_executed/Preprocessing2.20250930_153403.executed.ipynb",
   "parameters": {
    "PROCESSED_DIR": "data/processed/",
    "RANDOM_STATE": 42,
    "RAW_DIR": "data/raw/"
   },
   "start_time": "2025-09-30T20:34:03.401960",
   "version": "2.6.0"
  }
 },
 "nbformat": 4,
 "nbformat_minor": 5
}