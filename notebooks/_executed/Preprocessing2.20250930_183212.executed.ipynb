{
 "cells": [
  {
   "cell_type": "markdown",
   "id": "990006d5",
   "metadata": {
    "tags": [
     "papermill-error-cell-tag"
    ]
   },
   "source": [
    "<span style=\"color:red; font-family:Helvetica Neue, Helvetica, Arial, sans-serif; font-size:2em;\">An Exception was encountered at '<a href=\"#papermill-error-cell\">In [10]</a>'.</span>"
   ]
  },
  {
   "cell_type": "code",
   "execution_count": 1,
   "id": "4da50d8f",
   "metadata": {
    "execution": {
     "iopub.execute_input": "2025-09-30T23:32:13.272265Z",
     "iopub.status.busy": "2025-09-30T23:32:13.271885Z",
     "iopub.status.idle": "2025-09-30T23:32:13.277106Z",
     "shell.execute_reply": "2025-09-30T23:32:13.276628Z"
    },
    "jupyter": {
     "source_hidden": true
    },
    "papermill": {
     "duration": 0.015077,
     "end_time": "2025-09-30T23:32:13.278496",
     "exception": false,
     "start_time": "2025-09-30T23:32:13.263419",
     "status": "completed"
    },
    "tags": [
     "injected-parameters"
    ]
   },
   "outputs": [],
   "source": [
    "# Parameters\n",
    "RAW_DIR = \"data/raw/\"\n",
    "PROCESSED_DIR = \"data/processed/\"\n",
    "RANDOM_STATE = 42\n"
   ]
  },
  {
   "cell_type": "code",
   "execution_count": 2,
   "id": "d0230472",
   "metadata": {
    "execution": {
     "iopub.execute_input": "2025-09-30T23:32:13.284493Z",
     "iopub.status.busy": "2025-09-30T23:32:13.284269Z",
     "iopub.status.idle": "2025-09-30T23:32:13.287705Z",
     "shell.execute_reply": "2025-09-30T23:32:13.287233Z"
    },
    "jupyter": {
     "source_hidden": true
    },
    "papermill": {
     "duration": 0.00704,
     "end_time": "2025-09-30T23:32:13.288828",
     "exception": false,
     "start_time": "2025-09-30T23:32:13.281788",
     "status": "completed"
    },
    "tags": []
   },
   "outputs": [],
   "source": [
    "# Parameters (papermill)\n",
    "from pathlib import Path\n",
    "\n",
    "RAW_DIR = \"data/raw\"          # sobreescrito por papermill si usas --parameters\n",
    "PROCESSED_DIR = \"data/processed\"\n",
    "RANDOM_STATE = 42\n",
    "\n",
    "RAW_DIR = Path(RAW_DIR)\n",
    "PROCESSED_DIR = Path(PROCESSED_DIR)\n",
    "PROCESSED_DIR.mkdir(parents=True, exist_ok=True)"
   ]
  },
  {
   "cell_type": "code",
   "execution_count": 3,
   "id": "2d93f1c5",
   "metadata": {
    "execution": {
     "iopub.execute_input": "2025-09-30T23:32:13.293554Z",
     "iopub.status.busy": "2025-09-30T23:32:13.293334Z",
     "iopub.status.idle": "2025-09-30T23:32:14.298725Z",
     "shell.execute_reply": "2025-09-30T23:32:14.298410Z"
    },
    "jupyter": {
     "source_hidden": true
    },
    "papermill": {
     "duration": 1.008468,
     "end_time": "2025-09-30T23:32:14.299553",
     "exception": false,
     "start_time": "2025-09-30T23:32:13.291085",
     "status": "completed"
    },
    "tags": []
   },
   "outputs": [],
   "source": [
    "# LIBRERIAS \n",
    "import pandas as pd\n",
    "import numpy as np\n",
    "import hashlib\n",
    "import re\n",
    "from pathlib import Path\n",
    "from sklearn.preprocessing import LabelEncoder\n",
    "import joblib\n",
    "import os"
   ]
  },
  {
   "cell_type": "code",
   "execution_count": 4,
   "id": "7467dbaa",
   "metadata": {
    "execution": {
     "iopub.execute_input": "2025-09-30T23:32:14.301952Z",
     "iopub.status.busy": "2025-09-30T23:32:14.301808Z",
     "iopub.status.idle": "2025-09-30T23:32:15.372054Z",
     "shell.execute_reply": "2025-09-30T23:32:15.371757Z"
    },
    "jupyter": {
     "source_hidden": true
    },
    "papermill": {
     "duration": 1.072211,
     "end_time": "2025-09-30T23:32:15.372862",
     "exception": false,
     "start_time": "2025-09-30T23:32:14.300651",
     "status": "completed"
    },
    "tags": []
   },
   "outputs": [
    {
     "name": "stdout",
     "output_type": "stream",
     "text": [
      " Archivo procesado guardado en: /Users/alonso/Downloads/Tesis_SIEM_ML/data/processed_logs/logs_windows_estaciones.csv\n"
     ]
    }
   ],
   "source": [
    "# rocesamiento del archivo ML_event_windows_estaciones.csv\n",
    "# Rutas de entrada y salida\n",
    "input_path = Path(\"/Users/alonso/Downloads/Tesis_SIEM_ML/data/raw/ML_event_windows_estaciones.csv\")\n",
    "output_path = Path(\"/Users/alonso/Downloads/Tesis_SIEM_ML/data/processed_logs/logs_windows_estaciones.csv\")\n",
    "output_path.parent.mkdir(parents=True, exist_ok=True)\n",
    "\n",
    "# Cargar los datos \n",
    "df = pd.read_csv(input_path)\n",
    "\n",
    "# === Selección y renombramiento de columnas ===\n",
    "df_proc = df.rename(columns={\n",
    "    \"@timestamp\": \"timestamp\",\n",
    "    \"related.user\": \"src_user\",\n",
    "    \"winlog.event_data.ObjectType\": \"object_type\",\n",
    "    \"winlog.event_data.ObjectName\": \"object_name\",\n",
    "    \"event_critical.description\": \"description\",\n",
    "    \"event_critical.event_id\": \"event_id\",\n",
    "    \"log.level\": \"severity\",\n",
    "    \"event.action\": \"action\"\n",
    "})\n",
    "\n",
    "# Agregar columnas faltantes para el esquema estándar\n",
    "df_proc[\"src_ip\"] = None\n",
    "df_proc[\"dst_ip\"] = None\n",
    "df_proc[\"protocol\"] = \"N/A\"\n",
    "df_proc[\"log_source\"] = \"windows_estaciones\"\n",
    "\n",
    "# Renombrar columnas y seleccionar las importantes \n",
    "df_norm = pd.DataFrame()\n",
    "df_norm[\"timestamp\"] = df[\"@timestamp\"]\n",
    "df_norm[\"src_user\"] = df[\"related.user\"]\n",
    "df_norm[\"action\"] = df[\"event.action\"]\n",
    "df_norm[\"description\"] = df[\"event_critical.description\"]\n",
    "df_norm[\"object_type\"] = df[\"winlog.event_data.ObjectType\"]\n",
    "df_norm[\"object_name\"] = df[\"winlog.event_data.ObjectName\"]\n",
    "df_norm[\"channel\"] = df[\"winlog.channel\"]\n",
    "df_norm[\"log_level\"] = df[\"log.level\"]\n",
    "df_norm[\"log_source\"] = df[\"agent.name\"]\n",
    "\n",
    "# Normalizar valores de log_level a formato uniforme \n",
    "df_norm[\"log_level\"] = df_norm[\"log_level\"].str.lower().replace({\n",
    "    \"información\": \"info\",\n",
    "    \"advertencia\": \"warning\",\n",
    "    \"error\": \"error\"\n",
    "})\n",
    "\n",
    "# Limpiar espacios en blanco y valores vacíos\n",
    "df_norm = df_norm.fillna(\"-\")\n",
    "\n",
    "# Reordenar columnas al esquema estándar + útiles adicionales\n",
    "ordered_cols = [\n",
    "    \"timestamp\", \"src_ip\", \"dst_ip\", \"protocol\", \"action\", \"description\",\n",
    "    \"event_id\", \"severity\", \"src_user\", \"object_type\", \"object_name\", \"log_source\"\n",
    "]\n",
    "\n",
    "df_proc = df_proc[ordered_cols]\n",
    "\n",
    "# Guardar archivo procesado\n",
    "df_norm.to_csv(output_path, index=False)\n",
    "print(f\" Archivo procesado guardado en: {output_path}\")"
   ]
  },
  {
   "cell_type": "code",
   "execution_count": 5,
   "id": "8695650c",
   "metadata": {
    "execution": {
     "iopub.execute_input": "2025-09-30T23:32:15.375565Z",
     "iopub.status.busy": "2025-09-30T23:32:15.375448Z",
     "iopub.status.idle": "2025-09-30T23:32:15.641590Z",
     "shell.execute_reply": "2025-09-30T23:32:15.641313Z"
    },
    "jupyter": {
     "source_hidden": true
    },
    "papermill": {
     "duration": 0.268072,
     "end_time": "2025-09-30T23:32:15.642261",
     "exception": false,
     "start_time": "2025-09-30T23:32:15.374189",
     "status": "completed"
    },
    "tags": []
   },
   "outputs": [
    {
     "name": "stdout",
     "output_type": "stream",
     "text": [
      " Archivo procesado: /Users/alonso/Downloads/Tesis_SIEM_ML/data/processed_logs/logs_waf.csv\n"
     ]
    }
   ],
   "source": [
    "# Procesamiento del archivo ML_WAF.csv\n",
    "# Rutas\n",
    "input_path = Path(\"/Users/alonso/Downloads/Tesis_SIEM_ML/data/raw/ML_WAF.csv\")\n",
    "output_path = Path(\"/Users/alonso/Downloads/Tesis_SIEM_ML/data/processed_logs/logs_waf.csv\")\n",
    "output_path.parent.mkdir(parents=True, exist_ok=True)\n",
    "\n",
    "# Cargar datos\n",
    "df = pd.read_csv(input_path)\n",
    "\n",
    "# Renombrar y mapear columnas\n",
    "df_proc = df.rename(columns={\n",
    "    \"@timestamp\": \"timestamp\",\n",
    "    \"source.ip\": \"src_ip\",\n",
    "    \"destination.domain\": \"dst_ip\",\n",
    "    \"network.protocol\": \"protocol\",\n",
    "    \"http.request.method\": \"action\",\n",
    "    \"event.id\": \"event_id\",\n",
    "    \"rule.category\": \"category\",\n",
    "    \"url.original\": \"url\"\n",
    "})\n",
    "\n",
    "# Crear columna 'description' uniendo categoría de regla + URL\n",
    "df_proc[\"description\"] = df_proc[\"category\"].fillna('') + \" - \" + df_proc[\"url\"].fillna('')\n",
    "\n",
    "# Agregar columnas faltantes\n",
    "df_proc[\"severity\"] = None\n",
    "df_proc[\"src_user\"] = None\n",
    "df_proc[\"object_type\"] = None\n",
    "df_proc[\"object_name\"] = None\n",
    "df_proc[\"log_source\"] = \"waf\"\n",
    "\n",
    "# Reordenar columnas\n",
    "ordered_cols = [\n",
    "    \"timestamp\", \"src_ip\", \"dst_ip\", \"protocol\", \"action\", \"description\",\n",
    "    \"event_id\", \"severity\", \"src_user\", \"object_type\", \"object_name\", \"log_source\"\n",
    "]\n",
    "df_proc = df_proc[ordered_cols]\n",
    "\n",
    "# Guardar el archivo procesado\n",
    "df_proc.to_csv(output_path, index=False, encoding=\"utf-8-sig\")\n",
    "print(f\" Archivo procesado: {output_path}\")"
   ]
  },
  {
   "cell_type": "code",
   "execution_count": 6,
   "id": "bbb0a15d",
   "metadata": {
    "execution": {
     "iopub.execute_input": "2025-09-30T23:32:15.644706Z",
     "iopub.status.busy": "2025-09-30T23:32:15.644595Z",
     "iopub.status.idle": "2025-09-30T23:32:15.684826Z",
     "shell.execute_reply": "2025-09-30T23:32:15.684541Z"
    },
    "jupyter": {
     "source_hidden": true
    },
    "papermill": {
     "duration": 0.042131,
     "end_time": "2025-09-30T23:32:15.685520",
     "exception": false,
     "start_time": "2025-09-30T23:32:15.643389",
     "status": "completed"
    },
    "tags": []
   },
   "outputs": [
    {
     "name": "stdout",
     "output_type": "stream",
     "text": [
      " Archivo procesado: /Users/alonso/Downloads/Tesis_SIEM_ML/data/processed_logs/logs_antimalware.csv\n"
     ]
    }
   ],
   "source": [
    "# Procesamiento del archivo ML_antimalware.csv\n",
    "# Rutas\n",
    "input_path = Path(\"/Users/alonso/Downloads/Tesis_SIEM_ML/data/raw/ML_antimalware.csv\")\n",
    "output_path = Path(\"/Users/alonso/Downloads/Tesis_SIEM_ML/data/processed_logs/logs_antimalware.csv\")\n",
    "output_path.parent.mkdir(parents=True, exist_ok=True)\n",
    "\n",
    "# Cargar datos\n",
    "df = pd.read_csv(input_path)\n",
    "\n",
    "# Renombrar columnas relevantes\n",
    "df_proc = df.rename(columns={\n",
    "    \"@timestamp\": \"timestamp\",\n",
    "    \"network.protocol\": \"protocol\",\n",
    "    \"syslog.type\": \"action\",\n",
    "    \"file.name\": \"file_name\",\n",
    "    \"file.extension\": \"file_ext\",\n",
    "    \"risk.calculated_level\": \"risk_level\",\n",
    "    \"file.hash.sha256\": \"event_id\"\n",
    "})\n",
    "\n",
    "# Construir descripción combinada\n",
    "df_proc[\"description\"] = (\n",
    "    \"Archivo: \" + df_proc[\"file_name\"].fillna('') +\n",
    "    \".\" + df_proc[\"file_ext\"].fillna('') +\n",
    "    \" | Riesgo: \" + df_proc[\"risk_level\"].astype(str)\n",
    ")\n",
    "\n",
    "# Agregar columnas faltantes\n",
    "df_proc[\"src_ip\"] = None\n",
    "df_proc[\"dst_ip\"] = None\n",
    "df_proc[\"severity\"] = df_proc[\"risk_level\"]\n",
    "df_proc[\"src_user\"] = None\n",
    "df_proc[\"object_type\"] = \"file\"\n",
    "df_proc[\"object_name\"] = df_proc[\"file_name\"]\n",
    "df_proc[\"log_source\"] = \"antimalware\"\n",
    "\n",
    "# Reordenar columnas\n",
    "ordered_cols = [\n",
    "    \"timestamp\", \"src_ip\", \"dst_ip\", \"protocol\", \"action\", \"description\",\n",
    "    \"event_id\", \"severity\", \"src_user\", \"object_type\", \"object_name\", \"log_source\"\n",
    "]\n",
    "df_proc = df_proc[ordered_cols]\n",
    "\n",
    "# Guardar archivo procesado\n",
    "df_proc.to_csv(output_path, index=False, encoding=\"utf-8-sig\")\n",
    "print(f\" Archivo procesado: {output_path}\")"
   ]
  },
  {
   "cell_type": "code",
   "execution_count": 7,
   "id": "4da5e8e5",
   "metadata": {
    "execution": {
     "iopub.execute_input": "2025-09-30T23:32:15.688106Z",
     "iopub.status.busy": "2025-09-30T23:32:15.688009Z",
     "iopub.status.idle": "2025-09-30T23:32:18.441606Z",
     "shell.execute_reply": "2025-09-30T23:32:18.441327Z"
    },
    "jupyter": {
     "source_hidden": true
    },
    "papermill": {
     "duration": 2.755727,
     "end_time": "2025-09-30T23:32:18.442332",
     "exception": false,
     "start_time": "2025-09-30T23:32:15.686605",
     "status": "completed"
    },
    "tags": []
   },
   "outputs": [
    {
     "name": "stdout",
     "output_type": "stream",
     "text": [
      " Archivo procesado: /Users/alonso/Downloads/Tesis_SIEM_ML/data/processed_logs/logs_kaspersky.csv\n"
     ]
    }
   ],
   "source": [
    "# Procesamiento del archivo ML_antivirus_kaspersky.csv\n",
    "# Rutas\n",
    "input_path = Path(\"/Users/alonso/Downloads/Tesis_SIEM_ML/data/raw/ML_antivirus_kaspersky.csv\")\n",
    "output_path = Path(\"/Users/alonso/Downloads/Tesis_SIEM_ML/data/processed_logs/logs_kaspersky.csv\")\n",
    "output_path.parent.mkdir(parents=True, exist_ok=True)\n",
    "\n",
    "# Cargar datos\n",
    "df = pd.read_csv(input_path)\n",
    "\n",
    "# Renombrar columnas relevantes\n",
    "df_proc = df.rename(columns={\n",
    "    \"@timestamp\": \"timestamp\",\n",
    "    \"host.ip\": \"src_ip\",\n",
    "    \"event.reason\": \"action\",\n",
    "    \"file.path\": \"object_name\",\n",
    "    \"file.hash.sha256\": \"event_id\",\n",
    "    \"virus.name\": \"virus_name\",\n",
    "    \"danger.type\": \"danger_type\",\n",
    "    \"rule.description\": \"rule_description\"\n",
    "})\n",
    "\n",
    "# Crear descripción combinada\n",
    "df_proc[\"description\"] = (\n",
    "    \"Virus: \" + df_proc[\"virus_name\"].fillna('') +\n",
    "    \" | Tipo: \" + df_proc[\"danger_type\"].fillna('') +\n",
    "    \" | \" + df_proc[\"rule_description\"].fillna('')\n",
    ")\n",
    "\n",
    "# Agregar columnas faltantes\n",
    "df_proc[\"dst_ip\"] = None\n",
    "df_proc[\"protocol\"] = \"N/A\"\n",
    "df_proc[\"severity\"] = df_proc[\"danger_type\"]\n",
    "df_proc[\"src_user\"] = df[\"host.hostname\"]\n",
    "df_proc[\"object_type\"] = \"file\"\n",
    "df_proc[\"log_source\"] = \"antivirus_kaspersky\"\n",
    "\n",
    "# Reordenar columnas\n",
    "ordered_cols = [\n",
    "    \"timestamp\", \"src_ip\", \"dst_ip\", \"protocol\", \"action\", \"description\",\n",
    "    \"event_id\", \"severity\", \"src_user\", \"object_type\", \"object_name\", \"log_source\"\n",
    "]\n",
    "df_proc = df_proc[ordered_cols]\n",
    "\n",
    "# Guardar archivo procesado\n",
    "df_proc.to_csv(output_path, index=False, encoding=\"utf-8-sig\")\n",
    "print(f\" Archivo procesado: {output_path}\")\n"
   ]
  },
  {
   "cell_type": "code",
   "execution_count": 8,
   "id": "f361fc3c",
   "metadata": {
    "execution": {
     "iopub.execute_input": "2025-09-30T23:32:18.444758Z",
     "iopub.status.busy": "2025-09-30T23:32:18.444661Z",
     "iopub.status.idle": "2025-09-30T23:32:18.533231Z",
     "shell.execute_reply": "2025-09-30T23:32:18.532930Z"
    },
    "jupyter": {
     "source_hidden": true
    },
    "papermill": {
     "duration": 0.090512,
     "end_time": "2025-09-30T23:32:18.533969",
     "exception": false,
     "start_time": "2025-09-30T23:32:18.443457",
     "status": "completed"
    },
    "tags": []
   },
   "outputs": [
    {
     "name": "stdout",
     "output_type": "stream",
     "text": [
      " Archivo procesado: /Users/alonso/Downloads/Tesis_SIEM_ML/data/processed_logs/logs_antivirus_etiquetado.csv\n"
     ]
    }
   ],
   "source": [
    "# Procesamiento del archivo Logs-antivirus_etiquetado.csv\n",
    "# Rutas\n",
    "input_path = Path(\"/Users/alonso/Downloads/Tesis_SIEM_ML/data/raw/Logs-antivirus_etiquetado.csv\")\n",
    "output_path = Path(\"/Users/alonso/Downloads/Tesis_SIEM_ML/data/processed_logs/logs_antivirus_etiquetado.csv\")\n",
    "output_path.parent.mkdir(parents=True, exist_ok=True)\n",
    "\n",
    "# Cargar datos\n",
    "df = pd.read_csv(input_path)\n",
    "\n",
    "# Renombrar columnas relevantes\n",
    "df_proc = df.rename(columns={\n",
    "    \"@timestamp\": \"timestamp\",\n",
    "    \"host.ip\": \"src_ip\",\n",
    "    \"file.path\": \"object_name\",\n",
    "    \"file.hash.sha256\": \"event_id\",\n",
    "    \"virus.name\": \"virus_name\",\n",
    "    \"danger.type\": \"danger_type\",\n",
    "    \"rule.description\": \"rule_description\"\n",
    "})\n",
    "\n",
    "# Crear columna description\n",
    "df_proc[\"description\"] = (\n",
    "    \"Virus: \" + df_proc[\"virus_name\"].fillna('') +\n",
    "    \" | Tipo: \" + df_proc[\"danger_type\"].fillna('') +\n",
    "    \" | \" + df_proc[\"rule_description\"].fillna('')\n",
    ")\n",
    "\n",
    "# Agregar campos faltantes\n",
    "df_proc[\"dst_ip\"] = None\n",
    "df_proc[\"protocol\"] = \"N/A\"\n",
    "df_proc[\"severity\"] = df_proc[\"danger_type\"]\n",
    "df_proc[\"action\"] = \"Detectado\"\n",
    "df_proc[\"src_user\"] = df[\"host.hostname\"]\n",
    "df_proc[\"object_type\"] = \"file\"\n",
    "df_proc[\"log_source\"] = \"antivirus_etiquetado\"\n",
    "\n",
    "# Reordenar\n",
    "ordered_cols = [\n",
    "    \"timestamp\", \"src_ip\", \"dst_ip\", \"protocol\", \"action\", \"description\",\n",
    "    \"event_id\", \"severity\", \"src_user\", \"object_type\", \"object_name\", \"log_source\"\n",
    "]\n",
    "df_proc = df_proc[ordered_cols]\n",
    "\n",
    "# Guardar archivo final\n",
    "df_proc.to_csv(output_path, index=False, encoding=\"utf-8-sig\")\n",
    "print(f\" Archivo procesado: {output_path}\")\n"
   ]
  },
  {
   "cell_type": "code",
   "execution_count": 9,
   "id": "71b5beea",
   "metadata": {
    "execution": {
     "iopub.execute_input": "2025-09-30T23:32:18.536924Z",
     "iopub.status.busy": "2025-09-30T23:32:18.536791Z",
     "iopub.status.idle": "2025-09-30T23:32:18.596487Z",
     "shell.execute_reply": "2025-09-30T23:32:18.596233Z"
    },
    "jupyter": {
     "source_hidden": true
    },
    "papermill": {
     "duration": 0.061993,
     "end_time": "2025-09-30T23:32:18.597239",
     "exception": false,
     "start_time": "2025-09-30T23:32:18.535246",
     "status": "completed"
    },
    "tags": []
   },
   "outputs": [
    {
     "name": "stdout",
     "output_type": "stream",
     "text": [
      " Archivo procesado: /Users/alonso/Downloads/Tesis_SIEM_ML/data/processed_logs/logs_windows_server_correo.csv\n"
     ]
    }
   ],
   "source": [
    "# Procesamient odel archivo ML_event_windows_server_correo_interno.csv\n",
    "# Rutas\n",
    "input_path = Path(\"/Users/alonso/Downloads/Tesis_SIEM_ML/data/raw/ML_event_windows_server_correo_interno.csv\")\n",
    "output_path = Path(\"/Users/alonso/Downloads/Tesis_SIEM_ML/data/processed_logs/logs_windows_server_correo.csv\")\n",
    "output_path.parent.mkdir(parents=True, exist_ok=True)\n",
    "\n",
    "# Cargar datos\n",
    "df = pd.read_csv(input_path)\n",
    "\n",
    "# Renombrar columnas clave\n",
    "df_proc = df.rename(columns={\n",
    "    \"@timestamp\": \"timestamp\",\n",
    "    \"related.user\": \"src_user\",\n",
    "    \"winlog.event_data.ObjectType\": \"object_type\",\n",
    "    \"winlog.event_data.ObjectName\": \"object_name\",\n",
    "    \"event_critical.description\": \"description\",\n",
    "    \"event_critical.event_id\": \"event_id\",\n",
    "    \"log.level\": \"severity\",\n",
    "    \"event.action\": \"action\",\n",
    "    \"winlog.logon.failure.reason\": \"failure_reason\"\n",
    "})\n",
    "\n",
    "# Unir motivo de fallo con la descripción\n",
    "df_proc[\"description\"] = df_proc[\"description\"].fillna('') + \" | \" + df_proc[\"failure_reason\"].fillna('')\n",
    "\n",
    "# Agregar columnas faltantes\n",
    "df_proc[\"src_ip\"] = None\n",
    "df_proc[\"dst_ip\"] = None\n",
    "df_proc[\"protocol\"] = \"N/A\"\n",
    "df_proc[\"log_source\"] = \"windows_server_correo\"\n",
    "\n",
    "# Reordenar columnas\n",
    "ordered_cols = [\n",
    "    \"timestamp\", \"src_ip\", \"dst_ip\", \"protocol\", \"action\", \"description\",\n",
    "    \"event_id\", \"severity\", \"src_user\", \"object_type\", \"object_name\", \"log_source\"\n",
    "]\n",
    "df_proc = df_proc[ordered_cols]\n",
    "\n",
    "# Guardar archivo final\n",
    "df_proc.to_csv(output_path, index=False, encoding=\"utf-8-sig\")\n",
    "print(f\" Archivo procesado: {output_path}\")\n",
    "\n"
   ]
  },
  {
   "cell_type": "markdown",
   "id": "359c0d9b",
   "metadata": {
    "tags": [
     "papermill-error-cell-tag"
    ]
   },
   "source": [
    "<span id=\"papermill-error-cell\" style=\"color:red; font-family:Helvetica Neue, Helvetica, Arial, sans-serif; font-size:2em;\">Execution using papermill encountered an exception here and stopped:</span>"
   ]
  },
  {
   "cell_type": "code",
   "execution_count": 10,
   "id": "949c7d2a",
   "metadata": {
    "execution": {
     "iopub.execute_input": "2025-09-30T23:32:18.600125Z",
     "iopub.status.busy": "2025-09-30T23:32:18.600006Z",
     "iopub.status.idle": "2025-09-30T23:32:19.456609Z",
     "shell.execute_reply": "2025-09-30T23:32:19.456161Z"
    },
    "jupyter": {
     "source_hidden": true
    },
    "papermill": {
     "duration": 0.858605,
     "end_time": "2025-09-30T23:32:19.457215",
     "exception": true,
     "start_time": "2025-09-30T23:32:18.598610",
     "status": "failed"
    },
    "tags": []
   },
   "outputs": [
    {
     "ename": "OSError",
     "evalue": "[Errno 5] Input/output error",
     "output_type": "error",
     "traceback": [
      "\u001b[0;31m---------------------------------------------------------------------------\u001b[0m",
      "\u001b[0;31mOSError\u001b[0m                                   Traceback (most recent call last)",
      "Cell \u001b[0;32mIn[10], line 42\u001b[0m\n\u001b[1;32m     39\u001b[0m df_final \u001b[38;5;241m=\u001b[39m pd\u001b[38;5;241m.\u001b[39mDataFrame()\n\u001b[1;32m     41\u001b[0m \u001b[38;5;28;01mfor\u001b[39;00m fuente, archivo \u001b[38;5;129;01min\u001b[39;00m ARCHIVOS\u001b[38;5;241m.\u001b[39mitems():\n\u001b[0;32m---> 42\u001b[0m     df_temp \u001b[38;5;241m=\u001b[39m cargar_log_estandar(archivo, fuente)\n\u001b[1;32m     43\u001b[0m     df_final \u001b[38;5;241m=\u001b[39m pd\u001b[38;5;241m.\u001b[39mconcat([df_final, df_temp], ignore_index\u001b[38;5;241m=\u001b[39m\u001b[38;5;28;01mTrue\u001b[39;00m)\n\u001b[1;32m     45\u001b[0m \u001b[38;5;66;03m# Limpieza básica\u001b[39;00m\n",
      "Cell \u001b[0;32mIn[10], line 27\u001b[0m, in \u001b[0;36mcargar_log_estandar\u001b[0;34m(nombre_archivo, fuente)\u001b[0m\n\u001b[1;32m     24\u001b[0m     \u001b[38;5;28mprint\u001b[39m(\u001b[38;5;124mf\u001b[39m\u001b[38;5;124m\"\u001b[39m\u001b[38;5;124m Archivo no encontrado: \u001b[39m\u001b[38;5;132;01m{\u001b[39;00mnombre_archivo\u001b[38;5;132;01m}\u001b[39;00m\u001b[38;5;124m\"\u001b[39m)\n\u001b[1;32m     25\u001b[0m     \u001b[38;5;28;01mreturn\u001b[39;00m pd\u001b[38;5;241m.\u001b[39mDataFrame()  \u001b[38;5;66;03m# Devuelve DataFrame vacío\u001b[39;00m\n\u001b[0;32m---> 27\u001b[0m df \u001b[38;5;241m=\u001b[39m pd\u001b[38;5;241m.\u001b[39mread_csv(ruta)\n\u001b[1;32m     29\u001b[0m \u001b[38;5;66;03m# Asegurar columnas requeridas\u001b[39;00m\n\u001b[1;32m     30\u001b[0m \u001b[38;5;28;01mfor\u001b[39;00m col \u001b[38;5;129;01min\u001b[39;00m columnas_requeridas:\n",
      "File \u001b[0;32m/opt/anaconda3/lib/python3.13/site-packages/pandas/io/parsers/readers.py:1026\u001b[0m, in \u001b[0;36mread_csv\u001b[0;34m(filepath_or_buffer, sep, delimiter, header, names, index_col, usecols, dtype, engine, converters, true_values, false_values, skipinitialspace, skiprows, skipfooter, nrows, na_values, keep_default_na, na_filter, verbose, skip_blank_lines, parse_dates, infer_datetime_format, keep_date_col, date_parser, date_format, dayfirst, cache_dates, iterator, chunksize, compression, thousands, decimal, lineterminator, quotechar, quoting, doublequote, escapechar, comment, encoding, encoding_errors, dialect, on_bad_lines, delim_whitespace, low_memory, memory_map, float_precision, storage_options, dtype_backend)\u001b[0m\n\u001b[1;32m   1013\u001b[0m kwds_defaults \u001b[38;5;241m=\u001b[39m _refine_defaults_read(\n\u001b[1;32m   1014\u001b[0m     dialect,\n\u001b[1;32m   1015\u001b[0m     delimiter,\n\u001b[0;32m   (...)\u001b[0m\n\u001b[1;32m   1022\u001b[0m     dtype_backend\u001b[38;5;241m=\u001b[39mdtype_backend,\n\u001b[1;32m   1023\u001b[0m )\n\u001b[1;32m   1024\u001b[0m kwds\u001b[38;5;241m.\u001b[39mupdate(kwds_defaults)\n\u001b[0;32m-> 1026\u001b[0m \u001b[38;5;28;01mreturn\u001b[39;00m _read(filepath_or_buffer, kwds)\n",
      "File \u001b[0;32m/opt/anaconda3/lib/python3.13/site-packages/pandas/io/parsers/readers.py:626\u001b[0m, in \u001b[0;36m_read\u001b[0;34m(filepath_or_buffer, kwds)\u001b[0m\n\u001b[1;32m    623\u001b[0m     \u001b[38;5;28;01mreturn\u001b[39;00m parser\n\u001b[1;32m    625\u001b[0m \u001b[38;5;28;01mwith\u001b[39;00m parser:\n\u001b[0;32m--> 626\u001b[0m     \u001b[38;5;28;01mreturn\u001b[39;00m parser\u001b[38;5;241m.\u001b[39mread(nrows)\n",
      "File \u001b[0;32m/opt/anaconda3/lib/python3.13/site-packages/pandas/io/parsers/readers.py:1923\u001b[0m, in \u001b[0;36mTextFileReader.read\u001b[0;34m(self, nrows)\u001b[0m\n\u001b[1;32m   1916\u001b[0m nrows \u001b[38;5;241m=\u001b[39m validate_integer(\u001b[38;5;124m\"\u001b[39m\u001b[38;5;124mnrows\u001b[39m\u001b[38;5;124m\"\u001b[39m, nrows)\n\u001b[1;32m   1917\u001b[0m \u001b[38;5;28;01mtry\u001b[39;00m:\n\u001b[1;32m   1918\u001b[0m     \u001b[38;5;66;03m# error: \"ParserBase\" has no attribute \"read\"\u001b[39;00m\n\u001b[1;32m   1919\u001b[0m     (\n\u001b[1;32m   1920\u001b[0m         index,\n\u001b[1;32m   1921\u001b[0m         columns,\n\u001b[1;32m   1922\u001b[0m         col_dict,\n\u001b[0;32m-> 1923\u001b[0m     ) \u001b[38;5;241m=\u001b[39m \u001b[38;5;28mself\u001b[39m\u001b[38;5;241m.\u001b[39m_engine\u001b[38;5;241m.\u001b[39mread(  \u001b[38;5;66;03m# type: ignore[attr-defined]\u001b[39;00m\n\u001b[1;32m   1924\u001b[0m         nrows\n\u001b[1;32m   1925\u001b[0m     )\n\u001b[1;32m   1926\u001b[0m \u001b[38;5;28;01mexcept\u001b[39;00m \u001b[38;5;167;01mException\u001b[39;00m:\n\u001b[1;32m   1927\u001b[0m     \u001b[38;5;28mself\u001b[39m\u001b[38;5;241m.\u001b[39mclose()\n",
      "File \u001b[0;32m/opt/anaconda3/lib/python3.13/site-packages/pandas/io/parsers/c_parser_wrapper.py:234\u001b[0m, in \u001b[0;36mCParserWrapper.read\u001b[0;34m(self, nrows)\u001b[0m\n\u001b[1;32m    232\u001b[0m \u001b[38;5;28;01mtry\u001b[39;00m:\n\u001b[1;32m    233\u001b[0m     \u001b[38;5;28;01mif\u001b[39;00m \u001b[38;5;28mself\u001b[39m\u001b[38;5;241m.\u001b[39mlow_memory:\n\u001b[0;32m--> 234\u001b[0m         chunks \u001b[38;5;241m=\u001b[39m \u001b[38;5;28mself\u001b[39m\u001b[38;5;241m.\u001b[39m_reader\u001b[38;5;241m.\u001b[39mread_low_memory(nrows)\n\u001b[1;32m    235\u001b[0m         \u001b[38;5;66;03m# destructive to chunks\u001b[39;00m\n\u001b[1;32m    236\u001b[0m         data \u001b[38;5;241m=\u001b[39m _concatenate_chunks(chunks)\n",
      "File \u001b[0;32mparsers.pyx:838\u001b[0m, in \u001b[0;36mpandas._libs.parsers.TextReader.read_low_memory\u001b[0;34m()\u001b[0m\n",
      "File \u001b[0;32mparsers.pyx:905\u001b[0m, in \u001b[0;36mpandas._libs.parsers.TextReader._read_rows\u001b[0;34m()\u001b[0m\n",
      "File \u001b[0;32mparsers.pyx:874\u001b[0m, in \u001b[0;36mpandas._libs.parsers.TextReader._tokenize_rows\u001b[0;34m()\u001b[0m\n",
      "File \u001b[0;32mparsers.pyx:891\u001b[0m, in \u001b[0;36mpandas._libs.parsers.TextReader._check_tokenize_status\u001b[0;34m()\u001b[0m\n",
      "File \u001b[0;32mparsers.pyx:2053\u001b[0m, in \u001b[0;36mpandas._libs.parsers.raise_parser_error\u001b[0;34m()\u001b[0m\n",
      "\u001b[0;31mOSError\u001b[0m: [Errno 5] Input/output error"
     ]
    }
   ],
   "source": [
    "from pathlib import Path\n",
    "# Rutas\n",
    "BASE_PATH = Path(\"/Users/alonso/Downloads/Tesis_SIEM_ML\")\n",
    "PROCESSED_LOGS_PATH = BASE_PATH / \"data\" / \"processed_logs\"\n",
    "\n",
    "ARCHIVOS = {\n",
    "    \"windows\": \"logs_windows_estaciones.csv\",\n",
    "    \"kaspersky\": \"logs_kaspersky.csv\",\n",
    "    \"waf\": \"logs_waf.csv\",\n",
    "    \"antimalware\": \"logs_antimalware.csv\"\n",
    "}\n",
    "\n",
    "# Columnas estándar\n",
    "columnas_requeridas = [\n",
    "    'timestamp', 'src_ip', 'dst_ip', 'protocol', 'action',\n",
    "    'description', 'event_id', 'severity', 'src_user',\n",
    "    'object_type', 'object_name', 'log_source'\n",
    "]\n",
    "\n",
    "# Función para procesar cada archivo\n",
    "def cargar_log_estandar(nombre_archivo, fuente):\n",
    "    ruta = PROCESSED_LOGS_PATH / nombre_archivo\n",
    "    if not ruta.exists():\n",
    "        print(f\" Archivo no encontrado: {nombre_archivo}\")\n",
    "        return pd.DataFrame()  # Devuelve DataFrame vacío\n",
    "    \n",
    "    df = pd.read_csv(ruta)\n",
    "\n",
    "    # Asegurar columnas requeridas\n",
    "    for col in columnas_requeridas:\n",
    "        if col not in df.columns:\n",
    "            df[col] = None\n",
    "\n",
    "    df = df[columnas_requeridas]\n",
    "    df[\"fuente\"] = fuente\n",
    "    return df\n",
    "\n",
    "# Unificación\n",
    "df_final = pd.DataFrame()\n",
    "\n",
    "for fuente, archivo in ARCHIVOS.items():\n",
    "    df_temp = cargar_log_estandar(archivo, fuente)\n",
    "    df_final = pd.concat([df_final, df_temp], ignore_index=True)\n",
    "\n",
    "# Limpieza básica\n",
    "df_final.dropna(subset=[\"timestamp\", \"action\"], inplace=True)\n",
    "df_final.reset_index(drop=True, inplace=True)\n",
    "\n",
    "# Guardado final\n",
    "output_path = PROCESSED_LOGS_PATH / \"logs_normalizados.csv\"\n",
    "df_final.to_csv(output_path, index=False)\n",
    "print(f\" Archivo unificado guardado en: {output_path}\")"
   ]
  }
 ],
 "metadata": {
  "kernelspec": {
   "display_name": ".conda",
   "language": "python",
   "name": "python3"
  },
  "language_info": {
   "codemirror_mode": {
    "name": "ipython",
    "version": 3
   },
   "file_extension": ".py",
   "mimetype": "text/x-python",
   "name": "python",
   "nbconvert_exporter": "python",
   "pygments_lexer": "ipython3",
   "version": "3.13.5"
  },
  "papermill": {
   "default_parameters": {},
   "duration": 7.273563,
   "end_time": "2025-09-30T23:32:19.775472",
   "environment_variables": {},
   "exception": true,
   "input_path": "notebooks/Preprocessing2.ipynb",
   "output_path": "notebooks/_executed/Preprocessing2.20250930_183212.executed.ipynb",
   "parameters": {
    "PROCESSED_DIR": "data/processed/",
    "RANDOM_STATE": 42,
    "RAW_DIR": "data/raw/"
   },
   "start_time": "2025-09-30T23:32:12.501909",
   "version": "2.6.0"
  }
 },
 "nbformat": 4,
 "nbformat_minor": 5
}